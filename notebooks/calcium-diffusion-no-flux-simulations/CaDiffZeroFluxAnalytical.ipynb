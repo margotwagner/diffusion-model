{
 "cells": [
  {
   "cell_type": "markdown",
   "metadata": {
    "ExecuteTime": {
     "end_time": "2021-08-18T16:57:16.013225Z",
     "start_time": "2021-08-18T16:57:16.004393Z"
    }
   },
   "source": [
    "Script for modeling calcium diffusion in a rectangular tube with zero flux in the x-, y-, and z-directions.\n",
    "\n",
    "Last updated: 05/25/22 12:57PM"
   ]
  },
  {
   "cell_type": "code",
   "execution_count": 1,
   "metadata": {
    "ExecuteTime": {
     "end_time": "2021-08-18T16:57:27.589228Z",
     "start_time": "2021-08-18T16:57:27.586652Z"
    }
   },
   "outputs": [],
   "source": [
    "import math\n",
    "import numpy as np\n",
    "import matplotlib.pyplot as plt"
   ]
  },
  {
   "cell_type": "code",
   "execution_count": 20,
   "metadata": {
    "ExecuteTime": {
     "end_time": "2021-08-18T23:28:01.664014Z",
     "start_time": "2021-08-18T23:28:01.659001Z"
    }
   },
   "outputs": [],
   "source": [
    "# CONSTANTS\n",
    "L_x = 4     # X LENGTH (um)\n",
    "L_y = 0.5   # Y LENGTH (um)\n",
    "L_z = 0.5   # Z LENGTH (um)\n",
    "\n",
    "x_o = 2.35  # VDCC X LOC (um)\n",
    "y_o = 0.25  # VDCC Y LOC (um)\n",
    "z_o = 0     # VDCC Z LOC (um)\n",
    "t_o = 0     # C rel time (usec)\n",
    "\n",
    "x_s = 2       # SNARE BOX CENTER X LOC (um)\n",
    "y_s = 0.25    # SNARE BOX CENTER Y LOC (um)\n",
    "z_s = 0       # SNARE BOX CENTER Z LOC (um)\n",
    "\n",
    "'''\n",
    "delta_x = 0.040   # SNARE BOX X LEN (um)\n",
    "delta_y = 0.035   # SNARE BOX Y LEN (um)\n",
    "delta_z = 0.05    # SNARE BOX X LEN (um)\n",
    "'''\n",
    "\n",
    "delta_x = 0.1   # SNARE BOX X LEN (um)\n",
    "delta_y = 0.1   # SNARE BOX Y LEN (um)\n",
    "delta_z = 0.05    # SNARE BOX Z LEN (um)\n",
    "\n",
    "N_ca = 5275 # no. of ca\n",
    "conc_ca_init = N_ca / (6.022e23 * 1e-15)\n",
    "D = 2.20e-4     # Diffusion coeff (um^2/usec)\n",
    "\n",
    "\n",
    "# Test\n",
    "#K = 100       # X eigenmodes\n",
    "#L = 100       # Y eigenmodes\n",
    "#M = 100       # Z eigenmodes\n",
    "K = 10\n",
    "L = 0\n",
    "M = 0\n",
    "\n",
    "t = 10       # time of interest (microsec, usec) \"MCell models were also run 1,000 times for 10 $ms$ with a timestep of 1 $\\mu s$\""
   ]
  },
  {
   "cell_type": "code",
   "execution_count": 21,
   "metadata": {
    "ExecuteTime": {
     "end_time": "2021-08-18T23:28:02.090337Z",
     "start_time": "2021-08-18T23:28:02.086325Z"
    }
   },
   "outputs": [],
   "source": [
    "def int_g_xk(x_o, t_o, x, t, delta_x, k):\n",
    "    \"\"\"Integrates x-direction Green's component\n",
    "\n",
    "    Integrates the individual x-direction Green's components for a given eigenmode (k)\n",
    "    for a box with y-dimension delta_x centered at x at time t given an initial impulse\n",
    "    at x_o at t = t_o\n",
    "    \n",
    "    Args:\n",
    "      x_o: \n",
    "        location of calcium impulse input, y-direction\n",
    "      t_o:\n",
    "        time of calcium impulse input\n",
    "      x:\n",
    "        location of interest point, y-direction\n",
    "      t:\n",
    "        time of interest point\n",
    "      k:\n",
    "        z-direction eigenmode\n",
    "\n",
    "    Returns:\n",
    "      A singular value giving the value of the integrated individual x-direction Green's components\n",
    "    \"\"\"\n",
    "\n",
    "    if k == 0:\n",
    "        int_g_xk = delta_x / L_x\n",
    "    \n",
    "    else:\n",
    "        int_g_xk = (4 / (k * math.pi)) * math.cos((k * math.pi * x_o) / L_x) \\\n",
    "            * math.cos((k * math.pi * x) / L_x) \\\n",
    "            * math.sin((k * math.pi * delta_x)/(L_x * 2))\\\n",
    "            * math.exp(-D * ((k * math.pi) / L_x)**2 * (t - t_o))\n",
    "\n",
    "    return int_g_xk"
   ]
  },
  {
   "cell_type": "code",
   "execution_count": 22,
   "metadata": {
    "ExecuteTime": {
     "end_time": "2021-08-18T23:28:02.485477Z",
     "start_time": "2021-08-18T23:28:02.480652Z"
    }
   },
   "outputs": [],
   "source": [
    "def int_g_yl(y_o, t_o, y, t, delta_y, l):\n",
    "    \"\"\"Integrates y-direction Green's component\n",
    "\n",
    "    Integrates the individual y-direction Green's components for a given eigenmode (l)\n",
    "    for a box with y-dimension delta_y centered at y at time t given an initial impulse\n",
    "    at y_o at t = t_o\n",
    "    \n",
    "    Args:\n",
    "      y_o: \n",
    "        location of calcium impulse input, y-direction\n",
    "      t_o:\n",
    "        time of calcium impulse input\n",
    "      y:\n",
    "        location of interest point, y-direction\n",
    "      t:\n",
    "        time of interest point\n",
    "      l:\n",
    "        z-direction eigenmode\n",
    "\n",
    "    Returns:\n",
    "      A singular value giving the value of the integrated individual y-direction Green's components\n",
    "    \"\"\"\n",
    "\n",
    "    if l == 0:\n",
    "        int_g_yl = delta_y / L_y\n",
    "\n",
    "    else: \n",
    "        int_g_yl = (4 / (l * math.pi)) * math.cos((l * math.pi * y_o) / L_y) \\\n",
    "            * math.cos((l * math.pi * y) / L_y) \\\n",
    "            * math.sin((l * math.pi * delta_y) / (L_y * 2))\\\n",
    "            * math.exp(-D * ((l * math.pi) / L_y)**2 * (t - t_o))\n",
    "        \n",
    "    return int_g_yl"
   ]
  },
  {
   "cell_type": "code",
   "execution_count": 23,
   "metadata": {
    "ExecuteTime": {
     "end_time": "2021-08-18T23:28:02.924572Z",
     "start_time": "2021-08-18T23:28:02.919379Z"
    }
   },
   "outputs": [],
   "source": [
    "def int_g_zm(z_o, t_o, z, t, delta_z, m):\n",
    "    \"\"\"Integrates z-direction Green's component\n",
    "\n",
    "    Integrates the individual z-direction Green's components for a given eigenmode (m)\n",
    "    for a box with z-dimension delta_z centered at z at time t given an initial impulse\n",
    "    at z_o at t = t_o\n",
    "    \n",
    "    Args:\n",
    "      z_o: \n",
    "        location of calcium impulse input, z-direction\n",
    "      t_o:\n",
    "        time of calcium impulse input\n",
    "      z:\n",
    "        location of interest point, z-direction\n",
    "      t:\n",
    "        time of interest point\n",
    "      m:\n",
    "        z-direction eigenmode\n",
    "\n",
    "    Returns:\n",
    "      A singular value giving the value of the integrated individual z-direction Green's components\n",
    "    \"\"\"\n",
    "    \n",
    "    if m == 0:\n",
    "        int_g_zm = delta_z / (2 * L_z)\n",
    "    \n",
    "    else:\n",
    "        int_g_zm = (2 / (m * math.pi)) * math.cos((m * math.pi * z_o) / L_z) \\\n",
    "            * math.cos((m * math.pi * z) / L_z) \\\n",
    "            * math.sin((m * math.pi * delta_z) / (L_z * 2))\\\n",
    "            * math.exp(-D * (m * math.pi / L_z)**2 * (t - t_o))\n",
    "        \n",
    "    return int_g_zm"
   ]
  },
  {
   "cell_type": "code",
   "execution_count": 30,
   "metadata": {
    "ExecuteTime": {
     "end_time": "2021-08-18T23:28:03.779551Z",
     "start_time": "2021-08-18T23:28:03.774118Z"
    }
   },
   "outputs": [],
   "source": [
    "def int_G(impulse_xyzt, interest_xyzt, box_dim_xyz, eigenmodes_klm):\n",
    "    \"\"\"Sums Green's components for all directions and eigenmodes\n",
    "    \n",
    "    Sums the individual x-, y-, and z-direction Green's components across the desired number of\n",
    "    eigenmodes to give the normalized number of calcium molecules in a box with dimensions \n",
    "    (delta_x, delta_y, delta_z) centered at point (x, y, z) at time t given an initial impulse\n",
    "    of N_ca at (x_o, y_o, z_o) at t = t_o\n",
    "    \n",
    "    Args:\n",
    "      impulse_xyzt: \n",
    "        location and time of calcium impulse input; (x_o, y_o, z_o, t_o)\n",
    "      interest_xyzt: \n",
    "        location and time of interest point; (x, y, z, t)\n",
    "      box_dim_xyz: \n",
    "        dimensions of box of interest centered at interest_xyzt; (delta_x, delta_y, delta_z) \n",
    "      eigenmodes_klm: \n",
    "        total number of eigenmodes in x, y, and z directions accordingly; (K, L, M)\n",
    "\n",
    "    Returns:\n",
    "      A singular value giving the normalized number calcium molecules in a box with dimensions\n",
    "      given by box_dim_xyz centered at/at time given by interest_xyzt\n",
    "    \"\"\"\n",
    "    # unpack args\n",
    "    (x_o, y_o, z_o, t_o) = impulse_xyzt\n",
    "    (x, y, z, t) = interest_xyzt\n",
    "    (delta_x, delta_y, delta_z)  = box_dim_xyz\n",
    "    (K, L, M) = eigenmodes_klm\n",
    "\n",
    "    int_G = 0 # initialize\n",
    "    int_g_xk_values_per_t = []\n",
    "\n",
    "    # sum across all eigenmodes of interest\n",
    "    for k in range(0, K):\n",
    "      int_g_xk_values_per_t.append(int_g_xk(x_o, t_o, x, t, delta_x, k))\n",
    "      for l in range(0, L):\n",
    "        for m in range(0, M):\n",
    "          int_G += int_g_xk(x_o, t_o, x, t, delta_x, k) * int_g_yl(y_o, t_o, y, t, delta_y, l) * int_g_zm(z_o, t_o, z, t, delta_z, m)\n",
    "\n",
    "    return int_G, int_g_xk_values_per_t"
   ]
  },
  {
   "cell_type": "code",
   "execution_count": 31,
   "metadata": {
    "ExecuteTime": {
     "end_time": "2021-08-18T23:28:04.565946Z",
     "start_time": "2021-08-18T23:28:04.561291Z"
    }
   },
   "outputs": [],
   "source": [
    "def u(N_ca, impulse_xyzt, interest_xyzt, box_dim_xyz, eigenmodes_klm):\n",
    "    \"\"\"Returns number of calcium in a box of interest\n",
    "    \n",
    "    Scales the normalized number of calcium molecules in a box with dimensions (delta_x, delta_y, delta_z) centered at\n",
    "    point (x, y, z) at time t by the initial impulse of N_ca at (x_o, y_o, z_o) at t = t_o\n",
    "    \n",
    "    Args:\n",
    "      N_ca:\n",
    "        the number of initial calcium molecules in the impulse injection\n",
    "      impulse_xyzt: \n",
    "        location and time of calcium impulse input; (x_o, y_o, z_o, t_o)\n",
    "      interest_xyzt: \n",
    "        location and time of interest point; (x, y, z, t)\n",
    "      box_dim_xyz: \n",
    "        dimensions of box of interest centered at interest_xyzt; (delta_x, delta_y, delta_z) \n",
    "      eigenmodes_klm: \n",
    "        total number of eigenmodes in x, y, and z directions accordingly; (K, L, M)\n",
    "\n",
    "    Returns:\n",
    "      A singular value giving the number of calcium molecules in a box with dimensions\n",
    "      given by box_dim_xyz centered at/at time given by interest_xyzt\n",
    "    \"\"\"\n",
    "    int_G_val, int_g_xk_values_per_t = int_G(impulse_xyzt, interest_xyzt, box_dim_xyz, eigenmodes_klm)\n",
    "    u = N_ca * int_G_val\n",
    "    \n",
    "    return u, int_g_xk_values_per_t"
   ]
  },
  {
   "cell_type": "code",
   "execution_count": 10,
   "metadata": {
    "ExecuteTime": {
     "end_time": "2021-08-18T23:28:04.974365Z",
     "start_time": "2021-08-18T23:28:04.967707Z"
    }
   },
   "outputs": [
    {
     "data": {
      "text/plain": [
       "0.002579916933914045"
      ]
     },
     "execution_count": 10,
     "metadata": {},
     "output_type": "execute_result"
    }
   ],
   "source": [
    "# Test for 100, 100, 100\n",
    "u(N_ca, (x_o, y_o, z_o, t_o), (x_s, y_s, z_s, t), (delta_x, delta_y, delta_z), (K, L, M))\n",
    "#def int_G(x_s, y_s, z_s, t, x_o, y_o, z_o, t_o, delta_x, delta_y, delta_z, K, L, M):"
   ]
  },
  {
   "cell_type": "code",
   "execution_count": 32,
   "metadata": {},
   "outputs": [
    {
     "name": "stdout",
     "output_type": "stream",
     "text": [
      "10\n"
     ]
    }
   ],
   "source": [
    "# 1-D Eigenmode output\n",
    "print(t)\n",
    "n_ca_snare, int_g_xk_values_per_t = u(N_ca, (x_o, y_o, z_o, t_o), (x_s, y_s, z_s, t), (delta_x, delta_y, delta_z), (K, L, M))"
   ]
  },
  {
   "cell_type": "code",
   "execution_count": 34,
   "metadata": {},
   "outputs": [
    {
     "data": {
      "text/plain": [
       "[0.025,\n",
       " -8.297063807791086e-19,\n",
       " 0.04235763804403503,\n",
       " -6.6473656939078296e-18,\n",
       " 0.022120729297635443,\n",
       " -1.442003892567692e-17,\n",
       " -0.0037014352975534817,\n",
       " -1.8577099772417807e-17,\n",
       " -0.02650340123488482,\n",
       " -1.4966894805909724e-17]"
      ]
     },
     "execution_count": 34,
     "metadata": {},
     "output_type": "execute_result"
    }
   ],
   "source": [
    "int_g_xk_values_per_t"
   ]
  },
  {
   "cell_type": "code",
   "execution_count": 35,
   "metadata": {},
   "outputs": [],
   "source": [
    "timepoints = np.linspace(1, 1000, 200)\n",
    "ca_s = []\n",
    "int_g_xk_values = []\n",
    "\n",
    "for t in timepoints:\n",
    "    # append number of calcium in snare complex\n",
    "    n_ca_snare, int_g_xk_values_per_t = u(N_ca, (x_o, y_o, z_o, t_o), (x_s, y_s, z_s, t), (delta_x, delta_y, delta_z), (K, L, M))\n",
    "    ca_s.append(n_ca_snare)\n",
    "\n",
    "    # append eigenmode values\n",
    "    int_g_xk_values.append(int_g_xk_values_per_t)\n",
    "\n",
    "\n",
    "    "
   ]
  },
  {
   "cell_type": "code",
   "execution_count": 36,
   "metadata": {},
   "outputs": [
    {
     "data": {
      "image/png": "[encoded data removed]",
      "text/plain": [
       "<Figure size 432x288 with 1 Axes>"
      ]
     },
     "metadata": {
      "needs_background": "light"
     },
     "output_type": "display_data"
    }
   ],
   "source": [
    "ca_s = np.array(ca_s)\n",
    "ca_s[ca_s < 0] = 0\n",
    "plt.plot(timepoints, ca_s)\n",
    "plt.axhline(2.6375, color='k', linestyle='--', alpha=0.3)\n",
    "#plt.yscale('log')\n",
    "plt.ylim([0,6])\n",
    "plt.xlabel(\"Timepoint (microsecond)\")\n",
    "plt.ylabel(\"Number of Ca in SNARE box\")\n",
    "plt.show()"
   ]
  },
  {
   "cell_type": "code",
   "execution_count": 13,
   "metadata": {},
   "outputs": [
    {
     "data": {
      "image/png": "[encoded data removed]",
      "text/plain": [
       "<Figure size 432x288 with 1 Axes>"
      ]
     },
     "metadata": {
      "needs_background": "light"
     },
     "output_type": "display_data"
    }
   ],
   "source": [
    "# convert to concentration\n",
    "conc_ca = np.array(ca_s)/(delta_x * delta_y * delta_z) # (# ca/um^3)\n",
    "conc_ca_M = conc_ca / (1e-15 * 6.022e23) # convert to Molar\n",
    "conc_ca_M[conc_ca_M < 0] = 0\n",
    "\n",
    "plt.plot(timepoints, conc_ca_M)\n",
    "#plt.yscale('log')\n",
    "#plt.ylim([0,0.0001])\n",
    "plt.xlabel(\"Timepoint (microsecond)\")\n",
    "plt.ylabel(\"Concentration of Ca in SNARE box\")\n",
    "plt.show()"
   ]
  },
  {
   "cell_type": "code",
   "execution_count": 14,
   "metadata": {},
   "outputs": [
    {
     "data": {
      "text/plain": [
       "(-0.0, -0.0)"
      ]
     },
     "execution_count": 14,
     "metadata": {},
     "output_type": "execute_result"
    }
   ],
   "source": [
    "def eigenmode_checker(N_ca, impulse_xyzt, interest_xyzt, box_dim_xyz, eigenmodes_klm):\n",
    "    '''\n",
    "    Determine how many eigenmodes are necessary.\n",
    "\n",
    "    :param (x_s, y_s, z_s)\n",
    "    '''\n",
    "    (x_o, y_o, z_o, t_o) = impulse_xyzt\n",
    "    (x, y, z, t) = interest_xyzt\n",
    "    (delta_x, delta_y, delta_z)  = box_dim_xyz\n",
    "    (K, L, M) = eigenmodes_klm\n",
    "\n",
    "    # input the largest eigenmode and check what t value is needed to decay it\n",
    "    # 10 * 1/largest eigenvalue to get a ballpark\n",
    "    int_G = int_g_xk(x_o, t_o, x, t, delta_x, K) * int_g_yl(y_o, t_o, y, t, delta_y, L) * int_g_zm(z_o, t_o, z_s, t, delta_z, M)\n",
    "\n",
    "    u = N_ca * int_G\n",
    "\n",
    "    return int_G, u\n",
    "\n",
    "eigenmode_checker(N_ca, (x_o, y_o, z_o, t_o), (x_s, y_s, z_s, t), (delta_x, delta_y, delta_z), (K, L, M))"
   ]
  },
  {
   "cell_type": "markdown",
   "metadata": {},
   "source": [
    "Looking at a single dimension (x-dimension, 10 eigenmodes)"
   ]
  },
  {
   "cell_type": "code",
   "execution_count": 37,
   "metadata": {},
   "outputs": [
    {
     "data": {
      "image/png": "[encoded data removed]",
      "text/plain": [
       "<Figure size 432x288 with 1 Axes>"
      ]
     },
     "metadata": {
      "needs_background": "light"
     },
     "output_type": "display_data"
    }
   ],
   "source": [
    "ca_s = np.array(ca_s)\n",
    "ca_s[ca_s < 0] = 0\n",
    "plt.plot(timepoints, ca_s)\n",
    "plt.axhline(2.6375, color='k', linestyle='--', alpha=0.3)\n",
    "#plt.yscale('log')\n",
    "plt.ylim([0,6])\n",
    "plt.xlabel(\"Timepoint (microsecond)\")\n",
    "plt.ylabel(\"Number of Ca in SNARE box\")\n",
    "plt.show()"
   ]
  },
  {
   "cell_type": "code",
   "execution_count": 43,
   "metadata": {},
   "outputs": [
    {
     "ename": "TypeError",
     "evalue": "'int' object is not callable",
     "output_type": "error",
     "traceback": [
      "\u001b[0;31m---------------------------------------------------------------------------\u001b[0m",
      "\u001b[0;31mTypeError\u001b[0m                                 Traceback (most recent call last)",
      "\u001b[0;32m<ipython-input-43-67e1e6c55804>\u001b[0m in \u001b[0;36m<module>\u001b[0;34m\u001b[0m\n\u001b[1;32m      1\u001b[0m \u001b[0mint_g_xk_values\u001b[0m \u001b[0;34m=\u001b[0m \u001b[0mnp\u001b[0m\u001b[0;34m.\u001b[0m\u001b[0marray\u001b[0m\u001b[0;34m(\u001b[0m\u001b[0mint_g_xk_values\u001b[0m\u001b[0;34m)\u001b[0m\u001b[0;34m\u001b[0m\u001b[0;34m\u001b[0m\u001b[0m\n\u001b[0;32m----> 2\u001b[0;31m \u001b[0mprint\u001b[0m\u001b[0;34m(\u001b[0m\u001b[0mint_g_xk_values\u001b[0m\u001b[0;34m.\u001b[0m\u001b[0msize\u001b[0m\u001b[0;34m(\u001b[0m\u001b[0;34m)\u001b[0m\u001b[0;34m)\u001b[0m\u001b[0;34m\u001b[0m\u001b[0;34m\u001b[0m\u001b[0m\n\u001b[0m",
      "\u001b[0;31mTypeError\u001b[0m: 'int' object is not callable"
     ]
    }
   ],
   "source": []
  },
  {
   "cell_type": "code",
   "execution_count": 57,
   "metadata": {},
   "outputs": [
    {
     "data": {
      "image/png": "[encoded data removed]",
      "text/plain": [
       "<Figure size 432x288 with 1 Axes>"
      ]
     },
     "metadata": {
      "needs_background": "light"
     },
     "output_type": "display_data"
    }
   ],
   "source": [
    "int_g_xk_values = np.array(int_g_xk_values)\n",
    "for i in range(10):\n",
    "    plt.plot(timepoints, int_g_xk_values[:,i])\n",
    "#plt.axhline(2.6375, color='k', linestyle='--', alpha=0.3)\n",
    "#plt.yscale('log')\n",
    "#plt.ylim([0,6])\n",
    "#plt.xlabel(\"Timepoint (microsecond)\")\n",
    "#plt.ylabel(\"Number of Ca in SNARE box\")\n",
    "plt.show()\n",
    "#int_g_xk_values[0]"
   ]
  }
 ],
 "metadata": {
  "interpreter": {
   "hash": "57d1dc6e5bbfbf1112d5e37952581db9c44bf06d525ba77b7a2773946a21e29c"
  },
  "kernelspec": {
   "display_name": "Python 3.8.5 64-bit ('base': conda)",
   "name": "python3"
  },
  "language_info": {
   "codemirror_mode": {
    "name": "ipython",
    "version": 3
   },
   "file_extension": ".py",
   "mimetype": "text/x-python",
   "name": "python",
   "nbconvert_exporter": "python",
   "pygments_lexer": "ipython3",
   "version": "3.8.5"
  },
  "varInspector": {
   "cols": {
    "lenName": 16,
    "lenType": 16,
    "lenVar": 40
   },
   "kernels_config": {
    "python": {
     "delete_cmd_postfix": "",
     "delete_cmd_prefix": "del ",
     "library": "var_list.py",
     "varRefreshCmd": "print(var_dic_list())"
    },
    "r": {
     "delete_cmd_postfix": ") ",
     "delete_cmd_prefix": "rm(",
     "library": "var_list.r",
     "varRefreshCmd": "cat(var_dic_list()) "
    }
   },
   "types_to_exclude": [
    "module",
    "function",
    "builtin_function_or_method",
    "instance",
    "_Feature"
   ],
   "window_display": false
  }
 },
 "nbformat": 4,
 "nbformat_minor": 4
}
