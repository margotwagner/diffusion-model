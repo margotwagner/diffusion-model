{
 "cells": [
  {
   "cell_type": "markdown",
   "id": "dbd537e7",
   "metadata": {},
   "source": [
    "# Rounding Schemes\n",
    "This notebook explores rounding schemes (and compares them against numpy.round()).\n",
    "\n",
    "From comments in [numpy.round()](https://github.com/numpy/numpy/blob/e94ed84010c60961f82860d146681d3fd607de4e/numpy/core/fromnumeric.py#L2781), it appears that it rounds to the nearest even number:\n",
    "\n",
    "    >>> np.around([.5, 1.5, 2.5, 3.5, 4.5]) # rounds to nearest even value\n",
    "    array([ 0.,  2.,  2.,  4.,  4.])\n",
    "    \n",
    "This is called [rounding half to even](https://en.wikipedia.org/wiki/Rounding#Rounding_half_to_even) or banker's rounding (see [this](https://stackoverflow.com/a/10825998)).\n",
    "\n",
    "In this notebook, we compare the bias in different rounding schemes (as suggested [here](https://stackoverflow.com/a/23385667))."
   ]
  },
  {
   "cell_type": "markdown",
   "id": "ab32a0a7",
   "metadata": {},
   "source": [
    "## Stochastic Rounding\n",
    "The idea here is to round x.5 up or down based on a coin flip:"
   ]
  },
  {
   "cell_type": "code",
   "execution_count": 3,
   "id": "5cdbf6ba",
   "metadata": {},
   "outputs": [],
   "source": [
    "from math import modf\n",
    "import numpy as np\n",
    "\n",
    "np.random.seed = 2021.698635\n",
    "\n",
    "\n",
    "def stochastic_round(num):\n",
    "    # get the integer and fractional parts of num:\n",
    "    num_frac, num_int = modf(num)\n",
    "\n",
    "    # now round up, or down, or do a coin flip first\n",
    "    if num_frac > 0.5:\n",
    "        num_int += 1  # round up\n",
    "    elif num_frac < 0.5:\n",
    "        num_int -= 1  # round down\n",
    "    else:  # num_frac == 0.5\n",
    "        coin_flip = np.random.rand() > 0.5  # or should we use >= ?\n",
    "        if coin_flip:\n",
    "            num_int += 1\n",
    "        else:\n",
    "            num_int -= 1\n",
    "\n",
    "    return num_int"
   ]
  },
  {
   "cell_type": "markdown",
   "id": "a771487d",
   "metadata": {},
   "source": [
    "Now we test this idea out, comparing the rounding function above against numpy:"
   ]
  },
  {
   "cell_type": "code",
   "execution_count": 5,
   "id": "c8aa2c8a",
   "metadata": {},
   "outputs": [
    {
     "name": "stdout",
     "output_type": "stream",
     "text": [
      "Rounding 0.5: numpy rounds up\t0 of 10000 times\t[0.00%]\n",
      "Rounding 0.5: stoch rounds up\t5055 of 10000 times\t[50.55%]\n",
      "Rounding 1.5: numpy rounds up\t10000 of 10000 times\t[100.00%]\n",
      "Rounding 1.5: stoch rounds up\t4972 of 10000 times\t[49.72%]\n"
     ]
    }
   ],
   "source": [
    "# List of numbers to try rounding\n",
    "test_cases = [0.5, 1.5]\n",
    "\n",
    "# Number of repetitions to run\n",
    "num_iter = 10000\n",
    "\n",
    "for test_num in test_cases:\n",
    "    # tracking rounding results\n",
    "    stoc_up_cnt = 0\n",
    "    np_up_cnt = 0\n",
    "\n",
    "    # loop test!\n",
    "    for n in range(num_iter):\n",
    "        stoc_rounded = stochastic_round(test_num)\n",
    "        if stoc_rounded > test_num:\n",
    "            stoc_up_cnt += 1\n",
    "\n",
    "        np_rounded = np.round(test_num)\n",
    "        if np_rounded > test_num:\n",
    "            np_up_cnt += 1\n",
    "\n",
    "    print(\n",
    "        \"Rounding {}: numpy rounds up\\t{} of {} times\\t[{:.2f}%]\".format(\n",
    "            test_num, np_up_cnt, num_iter, 100 * np_up_cnt / num_iter\n",
    "        )\n",
    "    )\n",
    "    print(\n",
    "        \"Rounding {}: stoch rounds up\\t{} of {} times\\t[{:.2f}%]\".format(\n",
    "            test_num, stoc_up_cnt, num_iter, 100 * stoc_up_cnt / num_iter\n",
    "        )\n",
    "    )"
   ]
  },
  {
   "cell_type": "code",
   "execution_count": null,
   "id": "c90e04ae",
   "metadata": {},
   "outputs": [],
   "source": []
  }
 ],
 "metadata": {
  "kernelspec": {
   "display_name": "Python 3 (ipykernel)",
   "language": "python",
   "name": "python3"
  },
  "language_info": {
   "codemirror_mode": {
    "name": "ipython",
    "version": 3
   },
   "file_extension": ".py",
   "mimetype": "text/x-python",
   "name": "python",
   "nbconvert_exporter": "python",
   "pygments_lexer": "ipython3",
   "version": "3.9.12"
  }
 },
 "nbformat": 4,
 "nbformat_minor": 5
}
