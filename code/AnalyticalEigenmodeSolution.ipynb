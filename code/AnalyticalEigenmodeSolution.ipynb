{
 "cells": [
  {
   "cell_type": "markdown",
   "metadata": {},
   "source": [
    "Script for plotting analytical eigenmodes for calcium diffusion in a rectangular tube with zero flux in the x-, y-, and z-directions.\n",
    "\n",
    "Last updated: 05/25/22 4:11PM"
   ]
  },
  {
   "cell_type": "markdown",
   "metadata": {},
   "source": [
    "Start by just plotting x-direction (same/similar in other directions)"
   ]
  },
  {
   "cell_type": "code",
   "execution_count": 50,
   "metadata": {},
   "outputs": [],
   "source": [
    "import math\n",
    "import numpy as np\n",
    "import matplotlib.pyplot as plt"
   ]
  },
  {
   "cell_type": "code",
   "execution_count": 69,
   "metadata": {},
   "outputs": [],
   "source": [
    "# CONSTANTS\n",
    "L_x = 4     # X LENGTH (um)\n",
    "L_y = 0.5   # Y LENGTH (um)\n",
    "L_z = 0.5   # Z LENGTH (um)\n",
    "\n",
    "x_o = 2.35  # VDCC X LOC (um)\n",
    "y_o = 0.25  # VDCC Y LOC (um)\n",
    "z_o = 0     # VDCC Z LOC (um)\n",
    "\n",
    "x_s = 2       # SNARE BOX CENTER X LOC (um)\n",
    "y_s = 0.25    # SNARE BOX CENTER Y LOC (um)\n",
    "z_s = 0       # SNARE BOX CENTER Z LOC (um)\n",
    "\n",
    "\n",
    "# Test\n",
    "#K = 100       # X eigenmodes\n",
    "#L = 100       # Y eigenmodes\n",
    "#M = 100       # Z eigenmodes\n",
    "K = 11\n",
    "L = 0\n",
    "M = 0\n",
    "\n",
    "t = 10       # time of interest (microsec, usec) \"MCell models were also run 1,000 times for 10 $ms$ with a timestep of 1 $\\mu s$\""
   ]
  },
  {
   "cell_type": "code",
   "execution_count": 71,
   "metadata": {},
   "outputs": [],
   "source": [
    "def eigenmode_x(x, t, k):\n",
    "    \"\"\"X-component of the eigenmode\n",
    "\n",
    "    Returns the individual x-direction eigenmode for a box \n",
    "    with an initial impulse of N_ca at x_o at t = t_o\n",
    "    \n",
    "    Args:\n",
    "      x:\n",
    "        location of interest point, x-direction\n",
    "      t:\n",
    "        time of interest point\n",
    "      k:\n",
    "        z-direction eigenmode\n",
    "\n",
    "    Returns:\n",
    "      A singular value giving the value of the individual x-direction Green's components\n",
    "    \"\"\"\n",
    "\n",
    "    #if k == 0:\n",
    "        #g_xk = 2 / L_x\n",
    "    \n",
    "    eigenmode_x = math.cos((k * math.pi * x) / L_x) \n",
    "\n",
    "    return eigenmode_x"
   ]
  },
  {
   "cell_type": "code",
   "execution_count": 72,
   "metadata": {},
   "outputs": [],
   "source": [
    "# Find x-direction eigenmodes across time...\n",
    "timepoints = np.linspace(1, 1000, 200)\n",
    "x_modes = np.zeros((K, len(timepoints)))\n",
    "\n",
    "# Point in sace\n",
    "x = 2\n",
    "\n",
    "# append eigenmode values\n",
    "for k in range(K):\n",
    "    for t_i in range(len(timepoints)):\n",
    "        x_modes[k,t_i] = eigenmode_x(x, timepoints[t_i], k)\n"
   ]
  },
  {
   "cell_type": "code",
   "execution_count": 74,
   "metadata": {},
   "outputs": [
    {
     "data": {
      "image/png": "[encoded data removed]",
      "text/plain": [
       "<Figure size 720x504 with 1 Axes>"
      ]
     },
     "metadata": {
      "needs_background": "light"
     },
     "output_type": "display_data"
    }
   ],
   "source": [
    "fig = plt.figure(figsize=(10,7))\n",
    "for i in range(K):\n",
    "    plt.plot(timepoints, x_modes[i,:])\n",
    "\n",
    "#plt.ylim([-0.6,0.6])\n",
    "plt.legend(range(K))\n",
    "plt.xticks(fontsize=14)\n",
    "plt.yticks(fontsize=14)\n",
    "plt.xlabel(\"Timepoint ($\\mu s$)\", fontsize=18)\n",
    "plt.ylabel(\"X-direction eigenmodes\", fontsize=18)\n",
    "plt.show()"
   ]
  },
  {
   "cell_type": "code",
   "execution_count": 76,
   "metadata": {},
   "outputs": [],
   "source": [
    "def eigenmode(xyz, klm, t):\n",
    "    \"\"\"3-dimensional eigenmode\n",
    "\n",
    "    Returns the individual eigenmode for a box \n",
    "    with an initial impulse of N_ca at x_o at t = t_o\n",
    "    \n",
    "    Args:\n",
    "      x:\n",
    "        location of interest point, x-direction\n",
    "      t:\n",
    "        time of interest point\n",
    "      k:\n",
    "        z-direction eigenmode\n",
    "\n",
    "    Returns:\n",
    "      A singular value giving the value of the individual x-direction Green's components\n",
    "    \"\"\"\n",
    "\n",
    "    # Unpack input values\n",
    "    [x, y, z] = xyz \n",
    "    [k, l, m] = klm\n",
    "    \n",
    "    eigenmode = math.cos((k * math.pi * x) / L_x) * math.cos((l * math.pi * y) / L_y) * math.cos((m * math.pi * z) / L_z)\n",
    "\n",
    "    return eigenmode"
   ]
  },
  {
   "cell_type": "code",
   "execution_count": null,
   "metadata": {},
   "outputs": [],
   "source": [
    "# Find eigenmodes across time...\n",
    "timepoints = np.linspace(1, 1000, 200)\n",
    "modes = np.zeros((K, len(timepoints)))\n",
    "\n",
    "# Point in sace\n",
    "x = 2\n",
    "\n",
    "# append eigenmode values\n",
    "for k in range(K):\n",
    "    for t_i in range(len(timepoints)):\n",
    "        x_modes[k,t_i] = eigenmode_x(x, timepoints[t_i], k)\n"
   ]
  }
 ],
 "metadata": {
  "interpreter": {
   "hash": "aee8b7b246df8f9039afb4144a1f6fd8d2ca17a180786b69acc140d282b71a49"
  },
  "kernelspec": {
   "display_name": "Python 3.8.5 64-bit",
   "language": "python",
   "name": "python3"
  },
  "language_info": {
   "codemirror_mode": {
    "name": "ipython",
    "version": 3
   },
   "file_extension": ".py",
   "mimetype": "text/x-python",
   "name": "python",
   "nbconvert_exporter": "python",
   "pygments_lexer": "ipython3",
   "version": "3.8.5"
  },
  "orig_nbformat": 4
 },
 "nbformat": 4,
 "nbformat_minor": 2
}
