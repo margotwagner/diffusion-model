{
 "cells": [
  {
   "cell_type": "markdown",
   "metadata": {},
   "source": [
    "Notebook to compute the eigenmode decomposition of 1D diffusion utilizing random walk methodology. Used to validate modal markov formulation for calcium diffusion. Simple 1d diffusion with no reactions.\n",
    "\n",
    "10 nodes.\n",
    "\n",
    "author: Margot Wagner\n",
    "date created: 6/16/22"
   ]
  },
  {
   "cell_type": "markdown",
   "metadata": {},
   "source": [
    "# 1D Diffusion Eigenmode Decomposition"
   ]
  },
  {
   "cell_type": "code",
   "execution_count": 9,
   "metadata": {},
   "outputs": [],
   "source": [
    "import numpy as np\n",
    "from numpy.linalg import eig\n",
    "import matplotlib.pyplot as plt"
   ]
  },
  {
   "cell_type": "markdown",
   "metadata": {},
   "source": [
    "Define global variables"
   ]
  },
  {
   "cell_type": "code",
   "execution_count": 3,
   "metadata": {},
   "outputs": [],
   "source": [
    "# create mesh\n",
    "n_locs = 10               # define number of grid points along 1D line\n",
    "dt = 1                    # time step (usec)\n",
    "n_t_pts = 1000            # number of time points\n",
    "\n",
    "start_loc = 4             # starting position for molecules\n",
    "min_loc = 0               # minimum position\n",
    "max_loc = n_locs - 1      # maximum position\n",
    "last_elem_i = -1          # index for the last element in a list\n",
    "move = 1                  # number of points a particle can move per timepoint\n",
    "\n",
    "L = 4                     # total length of diffusion line (um)\n",
    "N = 50                    # number of molecules\n",
    "D = 2.20e-4               # Calcium diffusion coeff (um^2/usec)\n"
   ]
  },
  {
   "cell_type": "markdown",
   "metadata": {},
   "source": [
    "### 1D Random Walk Diffusion Simulation\n",
    "\n",
    "(implementation similar to GeeksforGeeks' [\"Random Walk (Implementation in Python)\"](https://www.geeksforgeeks.org/random-walk-implementation-python/))"
   ]
  },
  {
   "cell_type": "code",
   "execution_count": 18,
   "metadata": {},
   "outputs": [],
   "source": [
    "def random_walk(N, n_t_pts, p):\n",
    "    \"\"\" 1-D random walk for N molecules from a range of positions = [0, (n_locs - 1)]\n",
    "    \n",
    "    Args:\n",
    "      N: \n",
    "        total number of molecules\n",
    "      n_t_pts:\n",
    "        number of time points\n",
    "      p:\n",
    "        probability of particle diffusing to neighboring grid point\n",
    "u\n",
    "    Returns:\n",
    "      positions of all particles over time - matrix shaped (N, n_t_pts)\n",
    "    \"\"\"\n",
    "\n",
    "    # probabilities depending on if particle is in middle or at edge\n",
    "    p_middle = [p, 1 - 2*p, p]\n",
    "    p_edge = [p, 1 - p]\n",
    "\n",
    "    # initialize array for all particle positions\n",
    "    all_N_positions = np.empty((N, n_t_pts), dtype='int64')\n",
    "\n",
    "    for n in range(N):\n",
    "\n",
    "        # Initialize starting position (0 to (n_locs - 1) range)\n",
    "        positions = [start_loc]\n",
    "\n",
    "        # sampling probability all at once (1000 timepoints) \n",
    "        r = np.random.random(n_t_pts - 1)\n",
    "\n",
    "        # movement decision conditions\n",
    "        move_l_cond = r < p\n",
    "        move_r_cond = r > (1 - p)\n",
    "        # stay condition is between the two\n",
    "\n",
    "        # run simulation for particle n\n",
    "        # check probability rolls \n",
    "        for move_left, move_right in zip(move_l_cond, move_r_cond):\n",
    "        \n",
    "            # if move_left is True and last position isn't the minimum position, move left\n",
    "            left = move_left and positions[last_elem_i] > min_loc \n",
    "\n",
    "            # if move_right is True and last position isn't the maximum position, move right  \n",
    "            right = move_right and positions[last_elem_i] < max_loc\n",
    "\n",
    "            # stay condition is implied\n",
    "\n",
    "            # adjust position accordingly \n",
    "            positions.append(positions[last_elem_i] - left + right)\n",
    "\n",
    "        # add results to cumulative array\n",
    "        all_N_positions[n] = positions\n",
    "    \n",
    "    return all_N_positions\n"
   ]
  },
  {
   "cell_type": "markdown",
   "metadata": {},
   "source": [
    "* Calculate probability"
   ]
  },
  {
   "cell_type": "code",
   "execution_count": 19,
   "metadata": {},
   "outputs": [],
   "source": [
    "def find_p(L, n_locs, D, dt):\n",
    "    \"\"\" Find the probability of moving one spot to the left or right based on finite-difference approximations\n",
    "\n",
    "    params:\n",
    "        L:\n",
    "            length of line on which molecule is diffusing\n",
    "        n_locs:\n",
    "            number of locations molecule can diffuse to\n",
    "        D: \n",
    "            calcium diffusion constant\n",
    "        dt: \n",
    "            time step \n",
    "\n",
    "    return:\n",
    "        probability of diffusing one spot to the left or right\n",
    "\n",
    "    \"\"\"\n",
    "    dx = L / n_locs         # distance of one \"hop\"\n",
    "    k = D / dx**2             # rate constant\n",
    "\n",
    "    return k*dt"
   ]
  },
  {
   "cell_type": "markdown",
   "metadata": {},
   "source": [
    "* Find the number of particles at each node at each time point"
   ]
  },
  {
   "cell_type": "code",
   "execution_count": 20,
   "metadata": {},
   "outputs": [],
   "source": [
    "def postprocess_rw(all_N_positions, plot=False):\n",
    "    \"\"\"Post-process 1D random-walk diffusion (counts, normalized counts, means)\n",
    "    \n",
    "    Args:\n",
    "      all_N_positions: \n",
    "        positions of all particles over time - matrix shaped (N, n_t_pts)\n",
    "\n",
    "    Returns:\n",
    "      n_per_loc:\n",
    "        number of particles in each position over time\n",
    "      p_per_loc:\n",
    "        number of particles normalized by N in each position over time\n",
    "      means:\n",
    "        mean value of particle number at each location over the whole simulation\n",
    "    \"\"\"\n",
    "\n",
    "    # distribution of particles across positions over time\n",
    "    n_per_loc = np.zeros((n_locs, n_t_pts), dtype='int64')      # number of particles over time\n",
    "    p_per_loc = np.zeros((n_locs, n_t_pts))                     # normalized count over time\n",
    "\n",
    "    for i in range(n_t_pts):\n",
    "        # count number of particles in each position\n",
    "        counts = np.bincount(all_N_positions[:,i])\n",
    "\n",
    "        # resize to include all positions if it doesn't already\n",
    "        counts.resize(n_locs)\n",
    "\n",
    "        # assign number of particles\n",
    "        n_per_loc[:, i] = counts\n",
    "\n",
    "        # normalize counts and assign\n",
    "        counts = counts / all_N_positions.shape[0]\n",
    "        p_per_loc[:, i] = counts\n",
    "\n",
    "    means = np.mean(n_per_loc, axis=1)\n",
    "\n",
    "    if plot==True: \n",
    "      # plot particle counts for each position\n",
    "      plt.figure(figsize=(14,10))\n",
    "\n",
    "      for i in range(n_locs):\n",
    "        plt.plot(list(range(n_t_pts)), p_per_loc[i, :])\n",
    "\n",
    "      plt.title(\"Normalized number of particles in each position over time\", fontsize=20)\n",
    "      plt.xlabel(\"timepoint\", fontsize=14)\n",
    "      plt.ylabel(\"normalized count\", fontsize=14)\n",
    "      plt.legend(list(range(n_locs)))\n",
    "      plt.show()\n",
    "\n",
    "    return n_per_loc, p_per_loc, means"
   ]
  },
  {
   "cell_type": "markdown",
   "metadata": {},
   "source": [
    "* Main"
   ]
  },
  {
   "cell_type": "code",
   "execution_count": 22,
   "metadata": {},
   "outputs": [
    {
     "data": {
      "image/png": "[encoded data removed]",
      "text/plain": [
       "<Figure size 1008x720 with 1 Axes>"
      ]
     },
     "metadata": {
      "needs_background": "light"
     },
     "output_type": "display_data"
    },
    {
     "name": "stdout",
     "output_type": "stream",
     "text": [
      "[[0.   0.   0.   ... 0.   0.   0.  ]\n",
      " [0.   0.   0.   ... 0.04 0.04 0.04]\n",
      " [0.   0.   0.   ... 0.12 0.12 0.12]\n",
      " ...\n",
      " [0.   0.   0.   ... 0.   0.   0.  ]\n",
      " [0.   0.   0.   ... 0.   0.   0.  ]\n",
      " [0.   0.   0.   ... 0.02 0.02 0.02]]\n"
     ]
    }
   ],
   "source": [
    "def main():\n",
    "    \n",
    "    # find probability of moving one step \n",
    "    p = find_p(L, n_locs, D, dt)\n",
    "    \n",
    "    # run simulation\n",
    "    all_N_positions = random_walk(N, n_t_pts, p)\n",
    "\n",
    "    # plot output\n",
    "    n_per_loc, p_per_loc, means = postprocess_rw(all_N_positions, plot=True)\n",
    "\n",
    "\n",
    "\n",
    "if __name__ == '__main__':\n",
    "    tables_created = main()     "
   ]
  },
  {
   "cell_type": "markdown",
   "metadata": {},
   "source": [
    "### Solve for unknowns ($q_{+k}$ and $q_{-k}$)"
   ]
  },
  {
   "cell_type": "markdown",
   "metadata": {},
   "source": [
    "For N = 1\n",
    "\\begin{equation} \n",
    "    q_{\\pm k} = \\frac{1}{2} \\pm \\frac{\\sum_i p_i \\text{v}_{i k}}{2\\sqrt{\\sum_i p_i (\\text{v}_{i k})^2}} \n",
    "\\end{equation}"
   ]
  },
  {
   "cell_type": "code",
   "execution_count": 26,
   "metadata": {},
   "outputs": [
    {
     "name": "stdout",
     "output_type": "stream",
     "text": [
      "[[0.   0.   0.   ... 0.   0.   0.  ]\n",
      " [0.   0.   0.   ... 0.04 0.04 0.04]\n",
      " [0.   0.   0.   ... 0.22 0.22 0.22]\n",
      " ...\n",
      " [0.   0.   0.   ... 0.02 0.02 0.02]\n",
      " [0.   0.   0.   ... 0.02 0.02 0.02]\n",
      " [0.   0.   0.   ... 0.   0.   0.  ]]\n",
      "(10, 1000)\n"
     ]
    }
   ],
   "source": [
    "# find probability of moving one step \n",
    "p = find_p(L, n_locs, D, dt)\n",
    "    \n",
    "# run simulation\n",
    "all_N_positions = random_walk(N, n_t_pts, p)\n",
    "\n",
    "# plot output\n",
    "n_per_loc, p_per_loc, means = postprocess_rw(all_N_positions, plot=False)\n",
    "\n",
    "print(p_per_loc)\n",
    "print(p_per_loc.shape)"
   ]
  },
  {
   "cell_type": "markdown",
   "metadata": {},
   "source": [
    "### Define transition matrix"
   ]
  },
  {
   "cell_type": "markdown",
   "metadata": {},
   "source": [
    "* Where B is the dynamics matrix"
   ]
  },
  {
   "cell_type": "code",
   "execution_count": 30,
   "metadata": {},
   "outputs": [
    {
     "name": "stdout",
     "output_type": "stream",
     "text": [
      "B = \n",
      " [[0.       0.001375 0.       0.       0.       0.       0.       0.\n",
      "  0.       0.      ]\n",
      " [0.001375 0.       0.001375 0.       0.       0.       0.       0.\n",
      "  0.       0.      ]\n",
      " [0.       0.001375 0.       0.001375 0.       0.       0.       0.\n",
      "  0.       0.      ]\n",
      " [0.       0.       0.001375 0.       0.001375 0.       0.       0.\n",
      "  0.       0.      ]\n",
      " [0.       0.       0.       0.001375 0.       0.001375 0.       0.\n",
      "  0.       0.      ]\n",
      " [0.       0.       0.       0.       0.001375 0.       0.001375 0.\n",
      "  0.       0.      ]\n",
      " [0.       0.       0.       0.       0.       0.001375 0.       0.001375\n",
      "  0.       0.      ]\n",
      " [0.       0.       0.       0.       0.       0.       0.001375 0.\n",
      "  0.001375 0.      ]\n",
      " [0.       0.       0.       0.       0.       0.       0.       0.001375\n",
      "  0.       0.001375]\n",
      " [0.       0.       0.       0.       0.       0.       0.       0.\n",
      "  0.001375 0.      ]]\n"
     ]
    }
   ],
   "source": [
    "# Define A (transition) matrix \n",
    "B = np.zeros((n_locs, n_locs))             # transition probability between grid points\n",
    "vec_off_diag = np.full((n_locs - 1), p/dt)  # off-diagonal values\n",
    "\n",
    "# create transition matrix\n",
    "B = np.diag(vec_off_diag, k=1) + np.diag(vec_off_diag, k=-1)\n",
    "\n",
    "\n",
    "print(\"B = \\n\", B)"
   ]
  },
  {
   "cell_type": "markdown",
   "metadata": {},
   "source": [
    "* Where A is the probability matrix"
   ]
  },
  {
   "cell_type": "code",
   "execution_count": 31,
   "metadata": {},
   "outputs": [
    {
     "name": "stdout",
     "output_type": "stream",
     "text": [
      "A = \n",
      " [[0.998625 0.001375 0.       0.       0.       0.       0.       0.\n",
      "  0.       0.      ]\n",
      " [0.001375 0.99725  0.001375 0.       0.       0.       0.       0.\n",
      "  0.       0.      ]\n",
      " [0.       0.001375 0.99725  0.001375 0.       0.       0.       0.\n",
      "  0.       0.      ]\n",
      " [0.       0.       0.001375 0.99725  0.001375 0.       0.       0.\n",
      "  0.       0.      ]\n",
      " [0.       0.       0.       0.001375 0.99725  0.001375 0.       0.\n",
      "  0.       0.      ]\n",
      " [0.       0.       0.       0.       0.001375 0.99725  0.001375 0.\n",
      "  0.       0.      ]\n",
      " [0.       0.       0.       0.       0.       0.001375 0.99725  0.001375\n",
      "  0.       0.      ]\n",
      " [0.       0.       0.       0.       0.       0.       0.001375 0.99725\n",
      "  0.001375 0.      ]\n",
      " [0.       0.       0.       0.       0.       0.       0.       0.001375\n",
      "  0.99725  0.001375]\n",
      " [0.       0.       0.       0.       0.       0.       0.       0.\n",
      "  0.001375 0.998625]]\n"
     ]
    }
   ],
   "source": [
    "# Define A (transition) matrix \n",
    "A = np.zeros((n_locs, n_locs))             # transition probability between grid points\n",
    "vec_diag = np.full(n_locs, (1 - 2*p))         # diagonal values\n",
    "vec_off_diag = np.full((n_locs - 1), (p))  # off-diagonal values\n",
    "\n",
    "# create transition matrix\n",
    "A = np.diag(vec_diag, k=0) + np.diag(vec_off_diag, k=1) + np.diag(vec_off_diag, k=-1)\n",
    "A[0,0] = 1 - p\n",
    "A[n_locs - 1, n_locs - 1] = 1 - p\n",
    "\n",
    "\n",
    "print(\"A = \\n\", A)"
   ]
  },
  {
   "cell_type": "markdown",
   "metadata": {},
   "source": [
    "### Find eigenvalues and vectors"
   ]
  },
  {
   "cell_type": "code",
   "execution_count": 37,
   "metadata": {},
   "outputs": [
    {
     "name": "stdout",
     "output_type": "stream",
     "text": [
      "Numbe of eigenvalues: \t 10\n",
      "\n",
      "Number of eigenvectors: \t 10\n",
      "\n",
      "Eigenvector length: \t 10\n"
     ]
    }
   ],
   "source": [
    "e_val, e_vec = eig(A)\n",
    "#print('Eigenvalues: \\n', e_val)\n",
    "#print('\\nEigenvectors: \\n', e_vec)\n",
    "\n",
    "print('Numbe of eigenvalues: \\t', len(e_val))\n",
    "print('\\nNumber of eigenvectors: \\t', len(e_vec))\n",
    "print('\\nEigenvector length: \\t', len(e_vec[0]))"
   ]
  },
  {
   "cell_type": "code",
   "execution_count": 40,
   "metadata": {},
   "outputs": [
    {
     "name": "stdout",
     "output_type": "stream",
     "text": [
      "Numbe of eigenvalues: \t 10\n",
      "\n",
      "Number of eigenvectors: \t 10\n",
      "\n",
      "Eigenvector length: \t 10\n"
     ]
    }
   ],
   "source": [
    "e_val_b, e_vec_b = eig(B)\n",
    "#print('Eigenvalues: \\n', e_val_b)\n",
    "#print('\\nEigenvectors: \\n', e_vec_b)\n",
    "\n",
    "print('Numbe of eigenvalues: \\t', len(e_val_b))\n",
    "print('\\nNumber of eigenvectors: \\t', len(e_vec_b))\n",
    "print('\\nEigenvector length: \\t', len(e_vec_b[0]))"
   ]
  },
  {
   "cell_type": "markdown",
   "metadata": {},
   "source": [
    "Find $q_{\\pm k}$"
   ]
  },
  {
   "cell_type": "markdown",
   "metadata": {},
   "source": [
    "For N = 1\n",
    "\\begin{equation} \n",
    "    q_{\\pm k} = \\frac{1}{2} \\pm \\frac{\\sum_i p_i \\text{v}_{i k}}{2\\sqrt{\\sum_i p_i (\\text{v}_{i k})^2}} \n",
    "\\end{equation}"
   ]
  },
  {
   "cell_type": "code",
   "execution_count": 45,
   "metadata": {},
   "outputs": [
    {
     "name": "stdout",
     "output_type": "stream",
     "text": [
      "<class 'numpy.ndarray'>\n",
      "<class 'numpy.ndarray'>\n",
      "(10, 1000)\n",
      "(10, 10)\n",
      "[0. 0. 0. 0. 0. 0. 0. 0. 0. 0. 0. 0. 0. 0. 0. 0. 0. 0. 0. 0. 0. 0. 0. 0.\n",
      " 0. 0. 0. 0. 0. 0. 0. 0. 0. 0. 0. 0. 0. 0. 0. 0. 0. 0. 0. 0. 0. 0. 0. 0.\n",
      " 0. 0. 0. 0. 0. 0. 0. 0. 0. 0. 0. 0. 0. 0. 0. 0. 0. 0. 0. 0. 0. 0. 0. 0.\n",
      " 0. 0. 0. 0. 0. 0. 0. 0. 0. 0. 0. 0. 0. 0. 0. 0. 0. 0. 0. 0. 0. 0. 0. 0.\n",
      " 0. 0. 0. 0. 0. 0. 0. 0. 0. 0. 0. 0. 0. 0. 0. 0. 0. 0. 0. 0. 0. 0. 0. 0.\n",
      " 0. 0. 0. 0. 0. 0. 0. 0. 0. 0. 0. 0. 0. 0. 0. 0. 0. 0. 0. 0. 0. 0. 0. 0.\n",
      " 0. 0. 0. 0. 0. 0. 0. 0. 0. 0. 0. 0. 0. 0. 0. 0. 0. 0. 0. 0. 0. 0. 0. 0.\n",
      " 0. 0. 0. 0. 0. 0. 0. 0. 0. 0. 0. 0. 0. 0. 0. 0. 0. 0. 0. 0. 0. 0. 0. 0.\n",
      " 0. 0. 0. 0. 0. 0. 0. 0. 0. 0. 0. 0. 0. 0. 0. 0. 0. 0. 0. 0. 0. 0. 0. 0.\n",
      " 0. 0. 0. 0. 0. 0. 0. 0. 0. 0. 0. 0. 0. 0. 0. 0. 0. 0. 0. 0. 0. 0. 0. 0.\n",
      " 0. 0. 0. 0. 0. 0. 0. 0. 0. 0. 0. 0. 0. 0. 0. 0. 0. 0. 0. 0. 0. 0. 0. 0.\n",
      " 0. 0. 0. 0. 0. 0. 0. 0. 0. 0. 0. 0. 0. 0. 0. 0. 0. 0. 0. 0. 0. 0. 0. 0.\n",
      " 0. 0. 0. 0. 0. 0. 0. 0. 0. 0. 0. 0. 0. 0. 0. 0. 0. 0. 0. 0. 0. 0. 0. 0.\n",
      " 0. 0. 0. 0. 0. 0. 0. 0. 0. 0. 0. 0. 0. 0. 0. 0. 0. 0. 0. 0. 0. 0. 0. 0.\n",
      " 0. 0. 0. 0. 0. 0. 0. 0. 0. 0. 0. 0. 0. 0. 0. 0. 0. 0. 0. 0. 0. 0. 0. 0.\n",
      " 0. 0. 0. 0. 0. 0. 0. 0. 0. 0. 0. 0. 0. 0. 0. 0. 0. 0. 0. 0. 0. 0. 0. 0.\n",
      " 0. 0. 0. 0. 0. 0. 0. 0. 0. 0. 0. 0. 0. 0. 0. 0. 0. 0. 0. 0. 0. 0. 0. 0.\n",
      " 0. 0. 0. 0. 0. 0. 0. 0. 0. 0. 0. 0. 0. 0. 0. 0. 0. 0. 0. 0. 0. 0. 0. 0.\n",
      " 0. 0. 0. 0. 0. 0. 0. 0. 0. 0. 0. 0. 0. 0. 0. 0. 0. 0. 0. 0. 0. 0. 0. 0.\n",
      " 0. 0. 0. 0. 0. 0. 0. 0. 0. 0. 0. 0. 0. 0. 0. 0. 0. 0. 0. 0. 0. 0. 0. 0.\n",
      " 0. 0. 0. 0. 0. 0. 0. 0. 0. 0. 0. 0. 0. 0. 0. 0. 0. 0. 0. 0. 0. 0. 0. 0.\n",
      " 0. 0. 0. 0. 0. 0. 0. 0. 0. 0. 0. 0. 0. 0. 0. 0. 0. 0. 0. 0. 0. 0. 0. 0.\n",
      " 0. 0. 0. 0. 0. 0. 0. 0. 0. 0. 0. 0. 0. 0. 0. 0. 0. 0. 0. 0. 0. 0. 0. 0.\n",
      " 0. 0. 0. 0. 0. 0. 0. 0. 0. 0. 0. 0. 0. 0. 0. 0. 0. 0. 0. 0. 0. 0. 0. 0.\n",
      " 0. 0. 0. 0. 0. 0. 0. 0. 0. 0. 0. 0. 0. 0. 0. 0. 0. 0. 0. 0. 0. 0. 0. 0.\n",
      " 0. 0. 0. 0. 0. 0. 0. 0. 0. 0. 0. 0. 0. 0. 0. 0. 0. 0. 0. 0. 0. 0. 0. 0.\n",
      " 0. 0. 0. 0. 0. 0. 0. 0. 0. 0. 0. 0. 0. 0. 0. 0. 0. 0. 0. 0. 0. 0. 0. 0.\n",
      " 0. 0. 0. 0. 0. 0. 0. 0. 0. 0. 0. 0. 0. 0. 0. 0. 0. 0. 0. 0. 0. 0. 0. 0.\n",
      " 0. 0. 0. 0. 0. 0. 0. 0. 0. 0. 0. 0. 0. 0. 0. 0. 0. 0. 0. 0. 0. 0. 0. 0.\n",
      " 0. 0. 0. 0. 0. 0. 0. 0. 0. 0. 0. 0. 0. 0. 0. 0. 0. 0. 0. 0. 0. 0. 0. 0.\n",
      " 0. 0. 0. 0. 0. 0. 0. 0. 0. 0. 0. 0. 0. 0. 0. 0. 0. 0. 0. 0. 0. 0. 0. 0.\n",
      " 0. 0. 0. 0. 0. 0. 0. 0. 0. 0. 0. 0. 0. 0. 0. 0. 0. 0. 0. 0. 0. 0. 0. 0.\n",
      " 0. 0. 0. 0. 0. 0. 0. 0. 0. 0. 0. 0. 0. 0. 0. 0. 0. 0. 0. 0. 0. 0. 0. 0.\n",
      " 0. 0. 0. 0. 0. 0. 0. 0. 0. 0. 0. 0. 0. 0. 0. 0. 0. 0. 0. 0. 0. 0. 0. 0.\n",
      " 0. 0. 0. 0. 0. 0. 0. 0. 0. 0. 0. 0. 0. 0. 0. 0. 0. 0. 0. 0. 0. 0. 0. 0.\n",
      " 0. 0. 0. 0. 0. 0. 0. 0. 0. 0. 0. 0. 0. 0. 0. 0. 0. 0. 0. 0. 0. 0. 0. 0.\n",
      " 0. 0. 0. 0. 0. 0. 0. 0. 0. 0. 0. 0. 0. 0. 0. 0. 0. 0. 0. 0. 0. 0. 0. 0.\n",
      " 0. 0. 0. 0. 0. 0. 0. 0. 0. 0. 0. 0. 0. 0. 0. 0. 0. 0. 0. 0. 0. 0. 0. 0.\n",
      " 0. 0. 0. 0. 0. 0. 0. 0. 0. 0. 0. 0. 0. 0. 0. 0. 0. 0. 0. 0. 0. 0. 0. 0.\n",
      " 0. 0. 0. 0. 0. 0. 0. 0. 0. 0. 0. 0. 0. 0. 0. 0. 0. 0. 0. 0. 0. 0. 0. 0.\n",
      " 0. 0. 0. 0. 0. 0. 0. 0. 0. 0. 0. 0. 0. 0. 0. 0. 0. 0. 0. 0. 0. 0. 0. 0.\n",
      " 0. 0. 0. 0. 0. 0. 0. 0. 0. 0. 0. 0. 0. 0. 0. 0.]\n",
      "[-0.06995962  0.20303072 -0.31622777  0.39847023 -0.44170765  0.44170765\n",
      " -0.39847023  0.31622777 -0.20303072  0.06995962]\n"
     ]
    }
   ],
   "source": [
    "def q_pm_k(p, v):\n",
    "    \"\"\" Find the normalized number of particles in the positive and negative state of eigenmode k\n",
    "\n",
    "    params:\n",
    "        p: \n",
    "            normalized number or particles at node i (vector)\n",
    "        v:\n",
    "            eigenvector of node i (vector); v[:,i] is the eigenvector corresponding to the eigenvalue w[i]\n",
    "    \n",
    "    return:\n",
    "        q +- k\n",
    "    \"\"\"\n",
    "\n",
    "    print(type(p))\n",
    "    print(type(v))\n",
    "\n",
    "    print(p.shape)\n",
    "    print(v.shape)\n",
    "\n",
    "    # multiply p[i, :] by v[:,i]\n",
    "    print(p[0,:])\n",
    "    print(v[:,0])\n",
    "\n",
    "\n",
    "\n",
    "q_pm_k(p_per_loc, e_vec)\n",
    "\n",
    "    "
   ]
  },
  {
   "cell_type": "code",
   "execution_count": 47,
   "metadata": {},
   "outputs": [
    {
     "name": "stdout",
     "output_type": "stream",
     "text": [
      "[0.   0.   0.   0.   0.   0.   0.   0.   0.   0.   0.   0.   0.   0.\n",
      " 0.   0.   0.   0.   0.   0.   0.   0.   0.   0.   0.   0.   0.   0.\n",
      " 0.   0.   0.   0.   0.   0.   0.   0.   0.   0.   0.   0.   0.   0.\n",
      " 0.   0.   0.   0.   0.   0.   0.   0.   0.   0.   0.   0.   0.   0.\n",
      " 0.   0.   0.   0.   0.   0.   0.02 0.02 0.02 0.02 0.04 0.04 0.04 0.04\n",
      " 0.04 0.04 0.04 0.04 0.04 0.04 0.06 0.06 0.06 0.06 0.06 0.06 0.06 0.06\n",
      " 0.06 0.06 0.06 0.06 0.06 0.06 0.06 0.06 0.06 0.06 0.06 0.06 0.06 0.06\n",
      " 0.06 0.06 0.06 0.06 0.06 0.06 0.06 0.06 0.06 0.06 0.06 0.08 0.08 0.08\n",
      " 0.1  0.1  0.1  0.1  0.1  0.1  0.1  0.1  0.1  0.12 0.12 0.12 0.12 0.12\n",
      " 0.12 0.12 0.12 0.12 0.12 0.12 0.12 0.12 0.12 0.12 0.12 0.12 0.12 0.12\n",
      " 0.12 0.12 0.12 0.12 0.12 0.12 0.12 0.12 0.12 0.12 0.1  0.1  0.1  0.1\n",
      " 0.1  0.12 0.12 0.12 0.12 0.12 0.12 0.12 0.12 0.12 0.12 0.12 0.12 0.12\n",
      " 0.12 0.12 0.14 0.14 0.14 0.14 0.14 0.14 0.14 0.14 0.14 0.16 0.16 0.2\n",
      " 0.2  0.2  0.2  0.2  0.2  0.2  0.2  0.2  0.2  0.2  0.2  0.2  0.2  0.2\n",
      " 0.2  0.2  0.2  0.2  0.2  0.2  0.2  0.2  0.2  0.2  0.2  0.2  0.2  0.2\n",
      " 0.2  0.2  0.2  0.2  0.2  0.2  0.2  0.2  0.18 0.18 0.18 0.18 0.18 0.18\n",
      " 0.18 0.18 0.18 0.18 0.18 0.2  0.2  0.2  0.2  0.2  0.2  0.2  0.2  0.2\n",
      " 0.2  0.2  0.2  0.2  0.2  0.2  0.2  0.2  0.22 0.22 0.22 0.22 0.22 0.22\n",
      " 0.22 0.2  0.2  0.18 0.18 0.18 0.18 0.18 0.18 0.18 0.18 0.18 0.18 0.18\n",
      " 0.18 0.18 0.18 0.2  0.2  0.2  0.2  0.22 0.22 0.22 0.22 0.22 0.22 0.22\n",
      " 0.22 0.22 0.22 0.22 0.22 0.2  0.2  0.2  0.2  0.2  0.2  0.2  0.2  0.2\n",
      " 0.2  0.2  0.2  0.2  0.2  0.2  0.2  0.2  0.2  0.2  0.2  0.2  0.2  0.2\n",
      " 0.2  0.2  0.2  0.2  0.2  0.2  0.2  0.2  0.2  0.2  0.2  0.2  0.2  0.2\n",
      " 0.2  0.2  0.2  0.2  0.2  0.2  0.2  0.2  0.2  0.2  0.2  0.2  0.2  0.2\n",
      " 0.2  0.2  0.2  0.2  0.2  0.2  0.2  0.2  0.2  0.2  0.2  0.2  0.2  0.2\n",
      " 0.2  0.2  0.2  0.2  0.2  0.2  0.2  0.2  0.2  0.18 0.18 0.18 0.18 0.18\n",
      " 0.18 0.18 0.18 0.18 0.18 0.2  0.2  0.2  0.2  0.2  0.2  0.2  0.2  0.2\n",
      " 0.2  0.2  0.2  0.2  0.2  0.2  0.2  0.2  0.2  0.2  0.2  0.2  0.2  0.2\n",
      " 0.22 0.22 0.22 0.22 0.22 0.22 0.22 0.22 0.22 0.22 0.22 0.22 0.22 0.22\n",
      " 0.22 0.22 0.22 0.22 0.22 0.22 0.22 0.2  0.2  0.2  0.2  0.2  0.2  0.2\n",
      " 0.2  0.2  0.2  0.2  0.2  0.2  0.2  0.2  0.2  0.2  0.2  0.2  0.2  0.2\n",
      " 0.2  0.2  0.2  0.2  0.2  0.2  0.2  0.2  0.2  0.2  0.2  0.2  0.2  0.2\n",
      " 0.2  0.2  0.2  0.2  0.2  0.2  0.2  0.2  0.2  0.2  0.2  0.2  0.2  0.2\n",
      " 0.2  0.2  0.2  0.2  0.2  0.2  0.2  0.2  0.2  0.22 0.22 0.22 0.22 0.22\n",
      " 0.22 0.22 0.22 0.22 0.22 0.22 0.22 0.22 0.22 0.22 0.22 0.22 0.22 0.22\n",
      " 0.22 0.22 0.22 0.2  0.2  0.2  0.2  0.2  0.2  0.2  0.2  0.2  0.2  0.2\n",
      " 0.22 0.22 0.22 0.22 0.22 0.22 0.22 0.22 0.22 0.22 0.22 0.22 0.22 0.22\n",
      " 0.22 0.22 0.22 0.22 0.24 0.24 0.24 0.24 0.24 0.24 0.24 0.24 0.24 0.24\n",
      " 0.24 0.24 0.24 0.24 0.24 0.24 0.24 0.24 0.24 0.24 0.24 0.24 0.24 0.24\n",
      " 0.24 0.24 0.24 0.24 0.24 0.24 0.24 0.24 0.24 0.24 0.24 0.24 0.24 0.26\n",
      " 0.26 0.26 0.26 0.26 0.26 0.26 0.26 0.26 0.26 0.26 0.26 0.26 0.26 0.26\n",
      " 0.26 0.26 0.26 0.26 0.26 0.26 0.26 0.26 0.26 0.26 0.26 0.26 0.26 0.26\n",
      " 0.26 0.24 0.24 0.24 0.24 0.24 0.24 0.24 0.24 0.24 0.24 0.24 0.24 0.24\n",
      " 0.24 0.24 0.24 0.24 0.24 0.24 0.24 0.24 0.24 0.24 0.24 0.24 0.24 0.26\n",
      " 0.26 0.26 0.26 0.26 0.26 0.26 0.26 0.26 0.24 0.24 0.24 0.24 0.24 0.24\n",
      " 0.24 0.24 0.24 0.24 0.24 0.24 0.24 0.24 0.24 0.24 0.24 0.24 0.24 0.24\n",
      " 0.24 0.24 0.24 0.24 0.24 0.24 0.24 0.24 0.24 0.24 0.24 0.24 0.24 0.24\n",
      " 0.24 0.24 0.24 0.24 0.24 0.24 0.24 0.24 0.24 0.24 0.24 0.24 0.24 0.26\n",
      " 0.26 0.26 0.26 0.26 0.26 0.26 0.26 0.26 0.26 0.28 0.28 0.28 0.28 0.28\n",
      " 0.28 0.28 0.28 0.28 0.28 0.28 0.28 0.28 0.28 0.28 0.28 0.28 0.28 0.28\n",
      " 0.28 0.3  0.28 0.28 0.28 0.26 0.26 0.26 0.26 0.26 0.26 0.26 0.26 0.26\n",
      " 0.26 0.26 0.26 0.26 0.26 0.26 0.26 0.26 0.26 0.28 0.28 0.28 0.28 0.28\n",
      " 0.28 0.26 0.24 0.24 0.24 0.24 0.24 0.24 0.24 0.24 0.24 0.24 0.24 0.24\n",
      " 0.24 0.24 0.22 0.22 0.22 0.22 0.22 0.22 0.22 0.2  0.2  0.2  0.2  0.2\n",
      " 0.2  0.2  0.2  0.2  0.2  0.2  0.2  0.2  0.2  0.2  0.2  0.2  0.2  0.2\n",
      " 0.2  0.2  0.2  0.2  0.2  0.2  0.2  0.2  0.2  0.2  0.2  0.2  0.2  0.2\n",
      " 0.2  0.2  0.2  0.2  0.2  0.2  0.2  0.2  0.2  0.2  0.2  0.2  0.2  0.2\n",
      " 0.2  0.2  0.2  0.2  0.2  0.2  0.2  0.2  0.2  0.2  0.2  0.2  0.2  0.2\n",
      " 0.2  0.2  0.2  0.2  0.2  0.2  0.2  0.2  0.2  0.2  0.2  0.2  0.2  0.2\n",
      " 0.2  0.2  0.2  0.2  0.2  0.2  0.2  0.2  0.2  0.2  0.2  0.2  0.2  0.2\n",
      " 0.2  0.2  0.2  0.2  0.2  0.2  0.2  0.18 0.18 0.18 0.18 0.18 0.18 0.18\n",
      " 0.18 0.18 0.2  0.2  0.2  0.2  0.2  0.2  0.2  0.2  0.2  0.2  0.2  0.2\n",
      " 0.2  0.2  0.2  0.2  0.2  0.2  0.2  0.2  0.2  0.2  0.2  0.2  0.2  0.2\n",
      " 0.2  0.2  0.2  0.2  0.2  0.2  0.2  0.2  0.2  0.2  0.2  0.2  0.2  0.2\n",
      " 0.2  0.2  0.2  0.2  0.2  0.2  0.2  0.2  0.2  0.2  0.2  0.2  0.2  0.2\n",
      " 0.2  0.2  0.2  0.2  0.2  0.2  0.2  0.2  0.2  0.2  0.2  0.2  0.2  0.2\n",
      " 0.2  0.2  0.22 0.22 0.22 0.22 0.2  0.2  0.2  0.2  0.2  0.2  0.2  0.2\n",
      " 0.2  0.2  0.2  0.2  0.2  0.2  0.2  0.2  0.24 0.24 0.24 0.24 0.24 0.24\n",
      " 0.24 0.24 0.24 0.22 0.22 0.22 0.22 0.22 0.22 0.22 0.22 0.22 0.22 0.22\n",
      " 0.22 0.22 0.22 0.22 0.22 0.22 0.22 0.22 0.22 0.2  0.2  0.2  0.2  0.2\n",
      " 0.2  0.2  0.2  0.2  0.2  0.2  0.2  0.2  0.2  0.2  0.2  0.2  0.2  0.2\n",
      " 0.2  0.2  0.2  0.2  0.2  0.2 ]\n",
      "[-0.3618034  0.1381966  0.4472136  0.1381966 -0.3618034 -0.3618034\n",
      "  0.1381966  0.4472136  0.1381966 -0.3618034]\n",
      "0.13819660112509283\n"
     ]
    }
   ],
   "source": [
    "print(p_per_loc[5,:]) # at node 5, all timepoints\n",
    "print(e_vec[:,5])     # all entries for the eigenvector associated with eigenvalue 5\n",
    "\n",
    "# for mode = k (say k = 3)\n",
    "# p_per_loc[i, n_t]\n",
    "# e_vec[k, i]\n",
    "print(e_vec[3, 5])\n",
    "\n"
   ]
  },
  {
   "cell_type": "code",
   "execution_count": null,
   "metadata": {},
   "outputs": [],
   "source": [
    "# want to sum across all i's\n",
    "# ie p_per_loc[0,:]*e_vec[k, 0] + p_per_loc[1,:]*e_vec[k, 1] + p_per_loc[2,:]*e_vec[k, 2] ...\n",
    "\n",
    "# denom is similar\n",
    "# p_per_loc[0,:]*e_vec[k, 0]**2 + p_per_loc[1,:]*e_vec[k, 1]**2 + p_per_loc[2,:]*e_vec[k, 2]**2 ...\n",
    "\n",
    "# This is doable!!\n",
    "\n",
    "# p_per_loc[i, n_t]\n",
    "# e_vec[k, i]\n"
   ]
  }
 ],
 "metadata": {
  "interpreter": {
   "hash": "aee8b7b246df8f9039afb4144a1f6fd8d2ca17a180786b69acc140d282b71a49"
  },
  "kernelspec": {
   "display_name": "Python 3.8.5 64-bit",
   "language": "python",
   "name": "python3"
  },
  "language_info": {
   "codemirror_mode": {
    "name": "ipython",
    "version": 3
   },
   "file_extension": ".py",
   "mimetype": "text/x-python",
   "name": "python",
   "nbconvert_exporter": "python",
   "pygments_lexer": "ipython3",
   "version": "3.8.5"
  },
  "orig_nbformat": 4
 },
 "nbformat": 4,
 "nbformat_minor": 2
}
