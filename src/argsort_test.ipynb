{
 "cells": [
  {
   "cell_type": "code",
   "execution_count": 2,
   "metadata": {},
   "outputs": [
    {
     "name": "stdout",
     "output_type": "stream",
     "text": [
      "before: [41 16 50 48 59 35 50 82 22 72]\n",
      "middle: [16 22 35 41 48 50 50 59 72 82]\n",
      "final: [41 16 50 48 59 35 50 82 22 72]\n"
     ]
    }
   ],
   "source": [
    "import numpy as np\n",
    "\n",
    "# generate a random array on 10 integers\n",
    "a = np.random.randint(0, 100, 10)\n",
    "# print it out with label \"before\"\n",
    "print(\"before:\", a)\n",
    "\n",
    "# sort the array\n",
    "# in numpy, the sort function sorts the array in place\n",
    "b = np.sort(a)\n",
    "\n",
    "# print the sorted array with label \"middle\"\n",
    "print(\"middle:\", b)\n",
    "\n",
    "b_args = np.argsort(a)\n",
    "inverse_args = np.argsort(b_args)\n",
    "\n",
    "print(\"final:\", b[inverse_args])\n",
    "\n"
   ]
  },
  {
   "cell_type": "code",
   "execution_count": null,
   "metadata": {},
   "outputs": [],
   "source": []
  }
 ],
 "metadata": {
  "kernelspec": {
   "display_name": "eeg",
   "language": "python",
   "name": "python3"
  },
  "language_info": {
   "codemirror_mode": {
    "name": "ipython",
    "version": 3
   },
   "file_extension": ".py",
   "mimetype": "text/x-python",
   "name": "python",
   "nbconvert_exporter": "python",
   "pygments_lexer": "ipython3",
   "version": "3.11.4"
  }
 },
 "nbformat": 4,
 "nbformat_minor": 2
}
