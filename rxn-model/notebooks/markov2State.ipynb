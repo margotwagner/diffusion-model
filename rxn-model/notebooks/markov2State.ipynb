{
 "cells": [
  {
   "cell_type": "markdown",
   "metadata": {},
   "source": [
    "Code created by Margot Wagner (2/26/2020)"
   ]
  },
  {
   "cell_type": "code",
   "execution_count": 27,
   "metadata": {},
   "outputs": [],
   "source": [
    "# import packages\n",
    "import scipy as sp\n",
    "import matplotlib.pyplot as plt\n",
    "import numpy as np\n",
    "from scipy.integrate import odeint"
   ]
  },
  {
   "cell_type": "code",
   "execution_count": 19,
   "metadata": {},
   "outputs": [],
   "source": [
    "# Create voltage waveform Vm(t)\n",
    "# In this example, v_m(t) = v_m_const * H(t - t_input)\n",
    "\n",
    "\n",
    "def v_m(t):\n",
    "    \"\"\"\n",
    "    Function for the membrane voltage waveform as a function of time Vm(t)\n",
    "    input:    time t (value or array)\n",
    "    output:   Vm(t) = 30*H(t-t_input)\n",
    "    \"\"\"\n",
    "    v_m_const = 30  # mV\n",
    "    t_input = 10  # S\n",
    "\n",
    "    return v_m_const * (t >= t_input)"
   ]
  },
  {
   "cell_type": "code",
   "execution_count": 20,
   "metadata": {},
   "outputs": [
    {
     "data": {
      "image/png": "[encoded data removed]",
      "text/plain": [
       "<Figure size 432x288 with 1 Axes>"
      ]
     },
     "metadata": {
      "needs_background": "light"
     },
     "output_type": "display_data"
    }
   ],
   "source": [
    "t = sp.arange(-100, 100)\n",
    "plt.plot(t, v_m(t))\n",
    "plt.show()"
   ]
  },
  {
   "cell_type": "code",
   "execution_count": 21,
   "metadata": {},
   "outputs": [],
   "source": [
    "# Define the transition rates (as a function of time implicitly)\n",
    "\n",
    "\n",
    "def alpha_n(t):\n",
    "    \"\"\"\n",
    "    Function for the opening rate as a function of time Vm(t)\n",
    "    input:    time t (value or array)\n",
    "    output:   alpha_n = alpha_0*exp(lamda*Vm)\n",
    "    \"\"\"\n",
    "    alpha_0 = 0.6  # 1/s\n",
    "    lambda_const = 0.02  # 1/mV\n",
    "\n",
    "    return alpha_0 * np.exp(lambda_const * v_m(t))"
   ]
  },
  {
   "cell_type": "code",
   "execution_count": 22,
   "metadata": {},
   "outputs": [],
   "source": [
    "def beta_n(t):\n",
    "    \"\"\"\n",
    "    Function for the closing rate as a function of time Vm(t)\n",
    "    input:    time t (value or array)\n",
    "    output:   beta_n = beta_0*exp(mu*Vm)\n",
    "    \"\"\"\n",
    "    beta_0 = 0.8  # 1/s\n",
    "    mu_const = 0.02  # 1/mV\n",
    "\n",
    "    return beta_0 * np.exp(mu_const * v_m(t))"
   ]
  },
  {
   "cell_type": "code",
   "execution_count": 24,
   "metadata": {},
   "outputs": [
    {
     "data": {
      "text/plain": [
       "[<matplotlib.lines.Line2D at 0x11d3022d0>]"
      ]
     },
     "execution_count": 24,
     "metadata": {},
     "output_type": "execute_result"
    },
    {
     "data": {
      "image/png": "[encoded data removed]",
      "text/plain": [
       "<Figure size 432x288 with 1 Axes>"
      ]
     },
     "metadata": {
      "needs_background": "light"
     },
     "output_type": "display_data"
    }
   ],
   "source": [
    "# Plot transition rates as a function of time\n",
    "t = sp.arange(-100, 100)\n",
    "plt.plot(t, alpha_n(t))\n",
    "plt.plot(t, beta_n(t))"
   ]
  },
  {
   "cell_type": "code",
   "execution_count": 25,
   "metadata": {},
   "outputs": [],
   "source": [
    "# Solve for number of open channels as a function of time\n",
    "# using rate equation\n",
    "\n",
    "\n",
    "def dndt(n, t):\n",
    "    \"\"\"\n",
    "    Rate equation for mean number of open channels\n",
    "    input:    time (t) [value or array]\n",
    "              number of open channels (n)\n",
    "    output:   rate equation\n",
    "    \"\"\"\n",
    "    return alpha_n(t) * (1 - n) - beta_n(t) * n"
   ]
  },
  {
   "cell_type": "code",
   "execution_count": 29,
   "metadata": {},
   "outputs": [],
   "source": [
    "t = sp.arange(0, 20)\n",
    "\n",
    "n_t = odeint(dndt, [0], t)"
   ]
  },
  {
   "cell_type": "code",
   "execution_count": 30,
   "metadata": {},
   "outputs": [
    {
     "data": {
      "text/plain": [
       "[<matplotlib.lines.Line2D at 0x151e81d690>]"
      ]
     },
     "execution_count": 30,
     "metadata": {},
     "output_type": "execute_result"
    },
    {
     "data": {
      "image/png": "[encoded data removed]",
      "text/plain": [
       "<Figure size 432x288 with 1 Axes>"
      ]
     },
     "metadata": {
      "needs_background": "light"
     },
     "output_type": "display_data"
    }
   ],
   "source": [
    "plt.plot(t, n_t)"
   ]
  },
  {
   "cell_type": "code",
   "execution_count": 31,
   "metadata": {},
   "outputs": [],
   "source": [
    "# Simulate Markov process for stochastically opening and closing channels\n",
    "def markov_n_channels(n, t, dt):\n",
    "    \"\"\"\n",
    "    Function to simulate to opening and closing of channels as a Markov process\n",
    "\n",
    "    input:    number of channels (n) [int]\n",
    "              time (t)               [int/double or 1d array]\n",
    "              time step (dt)         [int/double]\n",
    "\n",
    "    output:   fraction of open channels over time (output) [1d array]\n",
    "    \"\"\"\n",
    "\n",
    "    # All gates start closed\n",
    "    gate_states = [0] * n\n",
    "    output = []\n",
    "\n",
    "    for tp in t:\n",
    "        for gate in range(n):\n",
    "            # Roll the dice for each gate at each time point\n",
    "            r = np.random.rand()\n",
    "            if gate_states[gate] == 0:\n",
    "                # Test if closed opens\n",
    "                gate_states[gate] = int(r < (alpha_n(tp) * dt))\n",
    "            else:\n",
    "                # Test if opened closes\n",
    "                gate_states[gate] = int(r < (1 - beta_n(tp) * dt))\n",
    "        output.append(sum(gate_states) * 1.0 / n)\n",
    "    return output"
   ]
  },
  {
   "cell_type": "code",
   "execution_count": 35,
   "metadata": {},
   "outputs": [
    {
     "data": {
      "image/png": "[encoded data removed]",
      "text/plain": [
       "<Figure size 432x288 with 1 Axes>"
      ]
     },
     "metadata": {
      "needs_background": "light"
     },
     "output_type": "display_data"
    }
   ],
   "source": [
    "dt = 0.01\n",
    "t = sp.arange(0, 20, dt)\n",
    "\n",
    "plt.plot(t, markov_n_channels(1, t, dt), color=\"blue\", label=\"N=1\")\n",
    "plt.plot(t, markov_n_channels(30, t, dt), color=\"green\", label=\"N=30\")\n",
    "plt.plot(t, markov_n_channels(1000, t, dt), color=\"black\", label=\"N=1000\")\n",
    "plt.legend()\n",
    "\n",
    "plt.show()"
   ]
  }
 ],
 "metadata": {
  "kernelspec": {
   "display_name": "Python 3",
   "language": "python",
   "name": "python3"
  },
  "language_info": {
   "codemirror_mode": {
    "name": "ipython",
    "version": 3
   },
   "file_extension": ".py",
   "mimetype": "text/x-python",
   "name": "python",
   "nbconvert_exporter": "python",
   "pygments_lexer": "ipython3",
   "version": "3.7.4"
  }
 },
 "nbformat": 4,
 "nbformat_minor": 2
}
