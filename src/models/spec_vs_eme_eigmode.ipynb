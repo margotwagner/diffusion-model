{
 "cells": [
  {
   "cell_type": "code",
   "execution_count": 5,
   "metadata": {},
   "outputs": [
    {
     "data": {
      "text/plain": [
       "(101, 100)"
      ]
     },
     "execution_count": 5,
     "metadata": {},
     "output_type": "execute_result"
    }
   ],
   "source": [
    "import numpy as np\n",
    "from EigenmarkovDiffusion import EigenmarkovDiffusion\n",
    "from SpectralRxnDiffusion import SpectralRxnDiffusion\n",
    "\n",
    "\n",
    "eigenmarkov = EigenmarkovDiffusion(\n",
    "    n_particles=58,\n",
    "    n_spatial_locs=101,\n",
    "    n_time_pts=100,\n",
    "    particle_start_loc=58,\n",
    "    scaling_factor=2,\n",
    ")\n",
    "n_time_pts = 100\n",
    "emd_eig_values, emd_eig_vectors, idx = eigenmarkov.get_eigenvalues_and_vectors(\n",
    "    print_output=False\n",
    ")\n",
    "\n",
    "time = np.array(range(n_time_pts))\n",
    "emd_modes = []\n",
    "for λ in emd_eig_values:\n",
    "    emd_mode = eigenmarkov.get_eigenmode(λ, time)\n",
    "    emd_modes.append(emd_mode)\n",
    "\n",
    "\n",
    "emd_modes = np.array(emd_modes)\n",
    "emd_modes.shape\n"
   ]
  },
  {
   "cell_type": "code",
   "execution_count": 6,
   "metadata": {},
   "outputs": [
    {
     "name": "stdout",
     "output_type": "stream",
     "text": [
      "Initializing dTdt solver...\n",
      "Solving dTdt...\n",
      "Initializing solution array...\n",
      "Beginning simulation...\n",
      "Time step:  0\n"
     ]
    },
    {
     "ename": "TypeError",
     "evalue": "SpectralRxnDiffusion.diffusion_temporal_eqtn() missing 1 required positional argument: 'get'",
     "output_type": "error",
     "traceback": [
      "\u001b[0;31m---------------------------------------------------------------------------\u001b[0m",
      "\u001b[0;31mTypeError\u001b[0m                                 Traceback (most recent call last)",
      "Cell \u001b[0;32mIn[6], line 38\u001b[0m\n\u001b[1;32m     31\u001b[0m \u001b[38;5;66;03m# SPECTRAL DIFFUSION\u001b[39;00m\n\u001b[1;32m     32\u001b[0m \u001b[38;5;66;03m# sd.simulate_diffusion()\u001b[39;00m\n\u001b[1;32m     33\u001b[0m \u001b[38;5;66;03m# sd.plot_diffusion([0, 1, 5, 20, 40, 50, 100])\u001b[39;00m\n\u001b[1;32m     35\u001b[0m sd\u001b[38;5;241m.\u001b[39msolve_dTdt(\n\u001b[1;32m     36\u001b[0m     save_dir\u001b[38;5;241m=\u001b[39m\u001b[38;5;124mf\u001b[39m\u001b[38;5;124m\"\u001b[39m\u001b[38;5;124m../data/spectral-diffusion/eigenmode-exps/\u001b[39m\u001b[38;5;132;01m{\u001b[39;00mn_eigenmodes\u001b[38;5;132;01m}\u001b[39;00m\u001b[38;5;124m/T.npy\u001b[39m\u001b[38;5;124m\"\u001b[39m\n\u001b[1;32m     37\u001b[0m )\n\u001b[0;32m---> 38\u001b[0m \u001b[43msd\u001b[49m\u001b[38;5;241;43m.\u001b[39;49m\u001b[43msimulate_diffusion\u001b[49m\u001b[43m(\u001b[49m\u001b[43m)\u001b[49m\n",
      "File \u001b[0;32m~/Desktop/Computer Science/diffusion-model/src/models/SpectralRxnDiffusion.py:217\u001b[0m, in \u001b[0;36mSpectralRxnDiffusion.simulate_diffusion\u001b[0;34m(self)\u001b[0m\n\u001b[1;32m    215\u001b[0m         \u001b[38;5;28mprint\u001b[39m(\u001b[38;5;124m\"\u001b[39m\u001b[38;5;124mTime step: \u001b[39m\u001b[38;5;124m\"\u001b[39m, time_idx)\n\u001b[1;32m    216\u001b[0m     \u001b[38;5;28;01mfor\u001b[39;00m space_idx \u001b[38;5;129;01min\u001b[39;00m \u001b[38;5;28mrange\u001b[39m(\u001b[38;5;241m0\u001b[39m, \u001b[38;5;28mself\u001b[39m\u001b[38;5;241m.\u001b[39mn_spatial_locs):\n\u001b[0;32m--> 217\u001b[0m         \u001b[38;5;28mself\u001b[39m\u001b[38;5;241m.\u001b[39mu_diff[space_idx, time_idx] \u001b[38;5;241m=\u001b[39m \u001b[38;5;28;43mself\u001b[39;49m\u001b[38;5;241;43m.\u001b[39;49m\u001b[43mdiffusion_spectral_eqtn\u001b[49m\u001b[43m(\u001b[49m\n\u001b[1;32m    218\u001b[0m \u001b[43m            \u001b[49m\u001b[43mspace_idx\u001b[49m\u001b[43m,\u001b[49m\u001b[43m \u001b[49m\u001b[43mtime_idx\u001b[49m\n\u001b[1;32m    219\u001b[0m \u001b[43m        \u001b[49m\u001b[43m)\u001b[49m\n\u001b[1;32m    220\u001b[0m \u001b[38;5;28mprint\u001b[39m(\u001b[38;5;124m\"\u001b[39m\u001b[38;5;124mSimulation complete!\u001b[39m\u001b[38;5;124m\"\u001b[39m)\n\u001b[1;32m    222\u001b[0m \u001b[38;5;28;01mreturn\u001b[39;00m \u001b[38;5;28mself\u001b[39m\u001b[38;5;241m.\u001b[39mu_diff\n",
      "File \u001b[0;32m~/Desktop/Computer Science/diffusion-model/src/models/SpectralRxnDiffusion.py:196\u001b[0m, in \u001b[0;36mSpectralRxnDiffusion.diffusion_spectral_eqtn\u001b[0;34m(self, x_idx, t_idx)\u001b[0m\n\u001b[1;32m    187\u001b[0m out \u001b[38;5;241m=\u001b[39m []\n\u001b[1;32m    189\u001b[0m \u001b[38;5;28;01mfor\u001b[39;00m m \u001b[38;5;129;01min\u001b[39;00m \u001b[38;5;28mrange\u001b[39m(\u001b[38;5;241m1\u001b[39m, \u001b[38;5;28mself\u001b[39m\u001b[38;5;241m.\u001b[39mn_eigenmodes):\n\u001b[1;32m    190\u001b[0m     out\u001b[38;5;241m.\u001b[39mappend(\n\u001b[1;32m    191\u001b[0m          (\n\u001b[1;32m    192\u001b[0m             (\u001b[38;5;28mself\u001b[39m\u001b[38;5;241m.\u001b[39mn_ca \u001b[38;5;241m/\u001b[39m (\u001b[38;5;28mself\u001b[39m\u001b[38;5;241m.\u001b[39mn_spatial_locs \u001b[38;5;241m/\u001b[39m \u001b[38;5;28mself\u001b[39m\u001b[38;5;241m.\u001b[39mline_length))\n\u001b[1;32m    193\u001b[0m             \u001b[38;5;241m*\u001b[39m \u001b[38;5;28mself\u001b[39m\u001b[38;5;241m.\u001b[39mZ_n(m)\n\u001b[1;32m    194\u001b[0m             \u001b[38;5;241m*\u001b[39m \u001b[38;5;28mself\u001b[39m\u001b[38;5;241m.\u001b[39mcos_n(m, \u001b[38;5;28mself\u001b[39m\u001b[38;5;241m.\u001b[39mspatial_mesh[x_idx])\n\u001b[1;32m    195\u001b[0m             \u001b[38;5;241m*\u001b[39m \u001b[38;5;28mself\u001b[39m\u001b[38;5;241m.\u001b[39mcos_n(m, \u001b[38;5;28mself\u001b[39m\u001b[38;5;241m.\u001b[39mspatial_mesh[\u001b[38;5;28mself\u001b[39m\u001b[38;5;241m.\u001b[39mimpulse_idx])\n\u001b[0;32m--> 196\u001b[0m             \u001b[38;5;241m*\u001b[39m \u001b[38;5;28;43mself\u001b[39;49m\u001b[38;5;241;43m.\u001b[39;49m\u001b[43mdiffusion_temporal_eqtn\u001b[49m\u001b[43m(\u001b[49m\u001b[43mm\u001b[49m\u001b[43m,\u001b[49m\u001b[43m \u001b[49m\u001b[43mt_idx\u001b[49m\u001b[43m)\u001b[49m\n\u001b[1;32m    197\u001b[0m         )\n\u001b[1;32m    198\u001b[0m     )\n\u001b[1;32m    200\u001b[0m u \u001b[38;5;241m=\u001b[39m \u001b[38;5;28mself\u001b[39m\u001b[38;5;241m.\u001b[39mZ_n(\u001b[38;5;241m0\u001b[39m) \u001b[38;5;241m+\u001b[39m \u001b[38;5;28msum\u001b[39m(out)\n\u001b[1;32m    201\u001b[0m \u001b[38;5;28;01mreturn\u001b[39;00m u\n",
      "\u001b[0;31mTypeError\u001b[0m: SpectralRxnDiffusion.diffusion_temporal_eqtn() missing 1 required positional argument: 'get'"
     ]
    }
   ],
   "source": [
    "def get_ca_init_loc():\n",
    "    # VDCC\n",
    "    vdcc_loc = 2.35  # um\n",
    "\n",
    "    return vdcc_loc\n",
    "\n",
    "\n",
    "def get_ca_init_idx(n_space_pts):\n",
    "    vdcc_loc = get_ca_init_loc()\n",
    "\n",
    "    z = 4  # um\n",
    "    dx = z / n_space_pts\n",
    "\n",
    "    return int(vdcc_loc / dx)\n",
    "\n",
    "\n",
    "n_time_pts = 100  # number of time points\n",
    "n_space_pts = 101  # 101  # number of spatial points\n",
    "ca_init_idx = get_ca_init_idx(n_space_pts)\n",
    "\n",
    "n_eigenmodes = 300\n",
    "\n",
    "# Spectral Method (calbindin reactions)\n",
    "sd = SpectralRxnDiffusion(\n",
    "    n_spatial_locs=n_space_pts,\n",
    "    n_time_pts=n_time_pts,\n",
    "    impulse_idx=ca_init_idx,\n",
    "    n_eigenmodes=n_eigenmodes,\n",
    ")\n",
    "\n",
    "# SPECTRAL DIFFUSION\n",
    "# sd.simulate_diffusion()\n",
    "# sd.plot_diffusion([0, 1, 5, 20, 40, 50, 100])\n",
    "\n",
    "sd.solve_dTdt(\n",
    "    save_dir=f\"../data/spectral-diffusion/eigenmode-exps/{n_eigenmodes}/T.npy\"\n",
    ")\n",
    "sd.simulate_diffusion()"
   ]
  },
  {
   "cell_type": "markdown",
   "metadata": {},
   "source": []
  }
 ],
 "metadata": {
  "kernelspec": {
   "display_name": "eeg",
   "language": "python",
   "name": "python3"
  },
  "language_info": {
   "codemirror_mode": {
    "name": "ipython",
    "version": 3
   },
   "file_extension": ".py",
   "mimetype": "text/x-python",
   "name": "python",
   "nbconvert_exporter": "python",
   "pygments_lexer": "ipython3",
   "version": "3.11.4"
  }
 },
 "nbformat": 4,
 "nbformat_minor": 2
}
