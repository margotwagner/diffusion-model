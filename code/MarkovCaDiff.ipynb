{
 "cells": [
  {
   "cell_type": "markdown",
   "metadata": {},
   "source": [
    "Script for modeling simple calcium diffusion (without reactions) as a Markov process using eigenmode decomposition. Calcium is released at a point at the VDCC"
   ]
  },
  {
   "cell_type": "code",
   "execution_count": 1,
   "metadata": {},
   "outputs": [],
   "source": [
    "import math\n",
    "import numpy as np\n",
    "import matplotlib.pyplot as plt"
   ]
  },
  {
   "cell_type": "markdown",
   "metadata": {},
   "source": [
    "We are modeling calcium diffusion using a Markov simulation of the eigenmodes to avoid a grid-based simulation. "
   ]
  },
  {
   "cell_type": "markdown",
   "metadata": {},
   "source": []
  },
  {
   "cell_type": "code",
   "execution_count": null,
   "metadata": {},
   "outputs": [],
   "source": [
    "# CONSTANTS\n",
    "L_x = 4     # X LENGTH (um)\n",
    "L_y = 0.5   # Y LENGTH (um)\n",
    "L_z = 0.5   # Z LENGTH (um)\n",
    "\n",
    "x_o = 2.35  # VDCC X LOC (um)\n",
    "y_o = 0.25  # VDCC Y LOC (um)\n",
    "z_o = 0     # VDCC Z LOC (um)\n",
    "t_o = 0     # C rel time (usec)\n",
    "\n",
    "x_s = 2       # SNARE BOX CENTER X LOC (um)\n",
    "y_s = 0.25    # SNARE BOX CENTER Y LOC (um)\n",
    "z_s = 0       # SNARE BOX CENTER Z LOC (um)\n",
    "\n",
    "'''\n",
    "delta_x = 0.040   # SNARE BOX X LEN (um)\n",
    "delta_y = 0.035   # SNARE BOX Y LEN (um)\n",
    "delta_z = 0.05    # SNARE BOX X LEN (um)\n",
    "'''\n",
    "\n",
    "delta_x = 0.1   # SNARE BOX X LEN (um)\n",
    "delta_y = 0.1   # SNARE BOX Y LEN (um)\n",
    "delta_z = 0.05    # SNARE BOX Z LEN (um)\n",
    "\n",
    "N_ca = 5275 # no. of ca\n",
    "conc_ca_init = N_ca / (6.022e23 * 1e-15)\n",
    "D = 2.20e-4     # Diffusion coeff (um^2/usec)\n",
    "\n",
    "\n",
    "# Test\n",
    "K = 100       # X eigenmodes\n",
    "L = 100       # Y eigenmodes\n",
    "M = 100       # Z eigenmodes\n",
    "t = 10       # time of interest (microsec, usec) \"MCell models were also run 1,000 times for 10 $ms$ with a timestep of 1 $\\mu s$\""
   ]
  },
  {
   "cell_type": "code",
   "execution_count": null,
   "metadata": {},
   "outputs": [],
   "source": [
    "def point_release_per_mode(N_ca, [k, l, m], [L_x, L_y, L_z]):\n",
    "    '''\n",
    "    Calculates the amount of calcium released into a given eigenmode (n) using\n",
    "    the eigenfunctions.\n",
    "\n",
    "    Args:\n",
    "      N_ca: \n",
    "        number of calcium molecules released into the whole system at time t = 0\n",
    "      n:\n",
    "        eigenmode number\n",
    "      t_o:\n",
    "        time of calcium impulse input\n",
    "      y:\n",
    "        location of interest point, y-direction\n",
    "      t:\n",
    "        time of interest point\n",
    "      l:\n",
    "        z-direction eigenmode\n",
    "\n",
    "    Returns:\n",
    "      The number of calcium molecules initially released into the given eigenmode.\n",
    "    '''\n",
    "    return N_ca * math.cos((k * math.pi * x_o) / L_x) \\\n",
    "            * math.cos((k * math.pi * x) / L_x) \\\n",
    "            * math.sin((k * math.pi * delta_x)/(L_x * 2))\\\n",
    "            * math.exp(-D * ((k * math.pi) / L_x)**2 * (t - t_o))\n",
    "    "
   ]
  }
 ],
 "metadata": {
  "interpreter": {
   "hash": "aee8b7b246df8f9039afb4144a1f6fd8d2ca17a180786b69acc140d282b71a49"
  },
  "kernelspec": {
   "display_name": "Python 3.8.5 64-bit",
   "language": "python",
   "name": "python3"
  },
  "language_info": {
   "codemirror_mode": {
    "name": "ipython",
    "version": 3
   },
   "file_extension": ".py",
   "mimetype": "text/x-python",
   "name": "python",
   "nbconvert_exporter": "python",
   "pygments_lexer": "ipython3",
   "version": "3.8.5"
  },
  "orig_nbformat": 4
 },
 "nbformat": 4,
 "nbformat_minor": 2
}
