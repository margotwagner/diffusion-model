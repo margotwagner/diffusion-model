{
 "cells": [
  {
   "cell_type": "markdown",
   "metadata": {},
   "source": [
    "Notebook to compute the eigenmode decomposition of 1D diffusion utilizing random walk methodology. Used to validate modal markov formulation for calcium diffusion. Simple 1d diffusion with no reactions.\n",
    "\n",
    "10 nodes.\n",
    "\n",
    "author: Margot Wagner\n",
    "date created: 6/16/22"
   ]
  },
  {
   "cell_type": "markdown",
   "metadata": {},
   "source": [
    "# 1D Diffusion Eigenmode Decomposition"
   ]
  },
  {
   "cell_type": "code",
   "execution_count": 4,
   "metadata": {},
   "outputs": [],
   "source": [
    "import numpy as np\n",
    "from numpy.linalg import eig\n",
    "import matplotlib.pyplot as plt\n",
    "import warnings"
   ]
  },
  {
   "cell_type": "markdown",
   "metadata": {},
   "source": [
    "Define global variables"
   ]
  },
  {
   "cell_type": "code",
   "execution_count": 5,
   "metadata": {},
   "outputs": [],
   "source": [
    "# create mesh\n",
    "n_locs = 10               # define number of grid points along 1D line\n",
    "dt = 1                    # time step (usec)\n",
    "n_t_pts = 1000            # number of time points\n",
    "\n",
    "start_loc = 4             # starting position for molecules\n",
    "min_loc = 0               # minimum position\n",
    "max_loc = n_locs - 1      # maximum position\n",
    "last_elem_i = -1          # index for the last element in a list\n",
    "move = 1                  # number of points a particle can move per timepoint\n",
    "\n",
    "L = 4                     # total length of diffusion line (um)\n",
    "N = 50                    # number of molecules\n",
    "D = 2.20e-4               # Calcium diffusion coeff (um^2/usec)\n"
   ]
  },
  {
   "cell_type": "markdown",
   "metadata": {},
   "source": [
    "### 1D Random Walk Diffusion Simulation\n",
    "\n",
    "(implementation similar to GeeksforGeeks' [\"Random Walk (Implementation in Python)\"](https://www.geeksforgeeks.org/random-walk-implementation-python/))"
   ]
  },
  {
   "cell_type": "code",
   "execution_count": 6,
   "metadata": {},
   "outputs": [],
   "source": [
    "def random_walk(N, n_t_pts, p):\n",
    "    \"\"\" 1-D random walk for N molecules from a range of positions = [0, (n_locs - 1)]\n",
    "    \n",
    "    Args:\n",
    "      N: \n",
    "        total number of molecules\n",
    "      n_t_pts:\n",
    "        number of time points\n",
    "      p:\n",
    "        probability of particle diffusing to neighboring grid point\n",
    "u\n",
    "    Returns:\n",
    "      positions of all particles over time - matrix shaped (N, n_t_pts)\n",
    "    \"\"\"\n",
    "\n",
    "    # probabilities depending on if particle is in middle or at edge\n",
    "    p_middle = [p, 1 - 2*p, p]\n",
    "    p_edge = [p, 1 - p]\n",
    "\n",
    "    # initialize array for all particle positions\n",
    "    all_N_positions = np.empty((N, n_t_pts), dtype='int64')\n",
    "\n",
    "    for n in range(N):\n",
    "\n",
    "        # Initialize starting position (0 to (n_locs - 1) range)\n",
    "        positions = [start_loc]\n",
    "\n",
    "        # sampling probability all at once (1000 timepoints) \n",
    "        r = np.random.random(n_t_pts - 1)\n",
    "\n",
    "        # movement decision conditions\n",
    "        move_l_cond = r < p\n",
    "        move_r_cond = r > (1 - p)\n",
    "        # stay condition is between the two\n",
    "\n",
    "        # run simulation for particle n\n",
    "        # check probability rolls \n",
    "        for move_left, move_right in zip(move_l_cond, move_r_cond):\n",
    "        \n",
    "            # if move_left is True and last position isn't the minimum position, move left\n",
    "            left = move_left and positions[last_elem_i] > min_loc \n",
    "\n",
    "            # if move_right is True and last position isn't the maximum position, move right  \n",
    "            right = move_right and positions[last_elem_i] < max_loc\n",
    "\n",
    "            # stay condition is implied\n",
    "\n",
    "            # adjust position accordingly \n",
    "            positions.append(positions[last_elem_i] - left + right)\n",
    "\n",
    "        # add results to cumulative array\n",
    "        all_N_positions[n] = positions\n",
    "    \n",
    "    return all_N_positions\n"
   ]
  },
  {
   "cell_type": "markdown",
   "metadata": {},
   "source": [
    "* Calculate probability"
   ]
  },
  {
   "cell_type": "code",
   "execution_count": 7,
   "metadata": {},
   "outputs": [],
   "source": [
    "def find_p(L, n_locs, D, dt):\n",
    "    \"\"\" Find the probability of moving one spot to the left or right based on finite-difference approximations\n",
    "\n",
    "    params:\n",
    "        L:\n",
    "            length of line on which molecule is diffusing\n",
    "        n_locs:\n",
    "            number of locations molecule can diffuse to\n",
    "        D: \n",
    "            calcium diffusion constant\n",
    "        dt: \n",
    "            time step \n",
    "\n",
    "    return:\n",
    "        probability of diffusing one spot to the left or right\n",
    "\n",
    "    \"\"\"\n",
    "    dx = L / n_locs         # distance of one \"hop\"\n",
    "    k = D / dx**2             # rate constant\n",
    "\n",
    "    return k*dt"
   ]
  },
  {
   "cell_type": "markdown",
   "metadata": {},
   "source": [
    "* Find the number of particles at each node at each time point"
   ]
  },
  {
   "cell_type": "code",
   "execution_count": 8,
   "metadata": {},
   "outputs": [],
   "source": [
    "def postprocess_rw(all_N_positions, plot=False):\n",
    "    \"\"\"Post-process 1D random-walk diffusion (counts, normalized counts, means)\n",
    "    \n",
    "    Args:\n",
    "      all_N_positions: \n",
    "        positions of all particles over time - matrix shaped (N, n_t_pts)\n",
    "\n",
    "    Returns:\n",
    "      n_per_loc:\n",
    "        number of particles in each position over time\n",
    "      p_per_loc:\n",
    "        number of particles normalized by N in each position over time\n",
    "      means:\n",
    "        mean value of particle number at each location over the whole simulation\n",
    "    \"\"\"\n",
    "\n",
    "    # distribution of particles across positions over time\n",
    "    n_per_loc = np.zeros((n_locs, n_t_pts), dtype='int64')      # number of particles over time\n",
    "    p_per_loc = np.zeros((n_locs, n_t_pts))                     # normalized count over time\n",
    "\n",
    "    for i in range(n_t_pts):\n",
    "        # count number of particles in each position\n",
    "        counts = np.bincount(all_N_positions[:,i])\n",
    "\n",
    "        # resize to include all positions if it doesn't already\n",
    "        counts.resize(n_locs)\n",
    "\n",
    "        # assign number of particles\n",
    "        n_per_loc[:, i] = counts\n",
    "\n",
    "        # normalize counts and assign\n",
    "        counts = counts / all_N_positions.shape[0]\n",
    "        p_per_loc[:, i] = counts\n",
    "\n",
    "    means = np.mean(n_per_loc, axis=1)\n",
    "\n",
    "    if plot==True: \n",
    "      # plot particle counts for each position\n",
    "      plt.figure(figsize=(14,10))\n",
    "\n",
    "      for i in range(n_locs):\n",
    "        plt.plot(list(range(n_t_pts)), p_per_loc[i, :])\n",
    "\n",
    "      plt.title(\"Normalized number of particles in each position over time\", fontsize=20)\n",
    "      plt.xlabel(\"timepoint\", fontsize=14)\n",
    "      plt.ylabel(\"normalized count\", fontsize=14)\n",
    "      plt.legend(list(range(n_locs)))\n",
    "      plt.show()\n",
    "\n",
    "    return n_per_loc, p_per_loc, means"
   ]
  },
  {
   "cell_type": "markdown",
   "metadata": {},
   "source": [
    "* Define transition matrix"
   ]
  },
  {
   "cell_type": "code",
   "execution_count": 9,
   "metadata": {},
   "outputs": [],
   "source": [
    "def transition_matrix_maker(p, n_locs, is_prob=True):\n",
    "    \"\"\" Builds and returns the transition matrix for the 1D random walk case as given.\n",
    "\n",
    "    params:\n",
    "        p: \n",
    "            probability\n",
    "        n_locs: \n",
    "            number of grid points along line\n",
    "        is_prob:\n",
    "            if the transition matrix is the probabilities (default) or if it is from the ODEs (using k-values)\n",
    "\n",
    "    returns:\n",
    "\n",
    "    \"\"\"\n",
    "\n",
    "    # Define A (transition) matrix \n",
    "    A = np.zeros((n_locs, n_locs))             # transition probability between grid points\n",
    "\n",
    "    # Transition matrix is given by the probability of transition\n",
    "    if is_prob:\n",
    "        vec_diag = np.full(n_locs, (1 - 2*p))           # diagonal values\n",
    "        vec_off_diag = np.full((n_locs - 1), (p))       # off-diagonal values\n",
    "\n",
    "        # create transition matrix\n",
    "        A = np.diag(vec_diag, k=0) + np.diag(vec_off_diag, k=1) + np.diag(vec_off_diag, k=-1)\n",
    "        A[0,0] = 1 - p\n",
    "        A[n_locs - 1, n_locs - 1] = 1 - p\n",
    "\n",
    "    # Transition matrix is given by the ODE dynamics equation (using k-values)\n",
    "    else:\n",
    "        vec_off_diag = np.full((n_locs - 1), p/dt)  # off-diagonal values\n",
    "\n",
    "        # create transition matrix\n",
    "        A = np.diag(vec_off_diag, k=1) + np.diag(vec_off_diag, k=-1)\n",
    "\n",
    "    return A\n",
    "    "
   ]
  },
  {
   "cell_type": "markdown",
   "metadata": {},
   "source": [
    "* Solve for $q_{\\pm k}$"
   ]
  },
  {
   "cell_type": "markdown",
   "metadata": {},
   "source": [
    "For N = 1\n",
    "\\begin{equation} \n",
    "    q_{\\pm k} = \\frac{1}{2} \\pm \\frac{\\sum_i p_i \\text{v}_{i k}}{2\\sqrt{\\sum_i p_i (\\text{v}_{i k})^2}} \n",
    "\\end{equation}"
   ]
  },
  {
   "cell_type": "code",
   "execution_count": 10,
   "metadata": {},
   "outputs": [],
   "source": [
    "def q_pm_k(p_per_loc, e_vec):\n",
    "    \"\"\" Find the normalized number of particles in the positive and negative state of eigenmode k\n",
    "\n",
    "    params:\n",
    "        p_per_loc: \n",
    "            normalized number or particles at node i (vector)\n",
    "        e_vec:\n",
    "            eigenvector of node i (vector); v[:,i] is the eigenvector corresponding to the eigenvalue w[i]\n",
    "    \n",
    "    return:\n",
    "        q +- k\n",
    "    \"\"\"\n",
    "\n",
    "    # numerator summation using outer product (element-wise multiplication)\n",
    "    num_sum = sum([e_vec[i,:].reshape((n_locs, 1)) * p_per_loc for i in range(n_locs)])  \n",
    "\n",
    "    # denominator summation using outer product (element-wise multiplication) \n",
    "    denom_sum = sum([(np.square(e_vec[i,:])).reshape((n_locs, 1)) * p_per_loc for i in range(n_locs)])   \n",
    "\n",
    "    # ignore divide by zero warning \n",
    "    with warnings.catch_warnings():\n",
    "        warnings.simplefilter(\"ignore\")\n",
    "        frac = (num_sum / (2 * np.sqrt(denom_sum)))\n",
    "\n",
    "    # replace nans with zeros\n",
    "    np.nan_to_num(frac, copy=False)\n",
    "\n",
    "    q_plus_k = 0.5 + frac\n",
    "    q_minus_k = 0.5 - frac\n",
    "\n",
    "\n",
    "    return q_plus_k, q_minus_k"
   ]
  },
  {
   "cell_type": "markdown",
   "metadata": {},
   "source": [
    "* Main"
   ]
  },
  {
   "cell_type": "code",
   "execution_count": 11,
   "metadata": {},
   "outputs": [
    {
     "data": {
      "image/png": "[encoded data removed]",
      "text/plain": [
       "<Figure size 1008x720 with 1 Axes>"
      ]
     },
     "metadata": {
      "needs_background": "light"
     },
     "output_type": "display_data"
    },
    {
     "name": "stdout",
     "output_type": "stream",
     "text": [
      "The full solution shape for each q (plus or minus) is (10, 1000)\n",
      "Initial values for q_plus_k:\t [0.5 0.5 0.5 0.5 0.5 0.5 0.5 0.5 0.5 0.5]\n",
      "Initial values for q_minus_k:\t [0.5 0.5 0.5 0.5 0.5 0.5 0.5 0.5 0.5 0.5]\n"
     ]
    }
   ],
   "source": [
    "def main():\n",
    "    \n",
    "    # find probability of moving one step \n",
    "    p = find_p(L, n_locs, D, dt)\n",
    "    \n",
    "    # run simulation\n",
    "    all_N_positions = random_walk(N, n_t_pts, p)\n",
    "\n",
    "    # plot output\n",
    "    n_per_loc, p_per_loc, means = postprocess_rw(all_N_positions, plot=True)\n",
    "\n",
    "    # build transition matrix\n",
    "    A = transition_matrix_maker(p, n_locs, is_prob=True)\n",
    "\n",
    "    # get eigenvalues/eigenvalues\n",
    "    e_val, e_vec = eig(A)\n",
    "\n",
    "    # solve for q +/- k\n",
    "    q_plus_k, q_minus_k = q_pm_k(p_per_loc, e_vec)\n",
    "\n",
    "    print(\"The full solution shape for each q (plus or minus) is\", q_plus_k.shape)\n",
    "\n",
    "    print(\"Initial values for q_plus_k:\\t\", q_plus_k[:,0])\n",
    "    print(\"Initial values for q_minus_k:\\t\", q_minus_k[:,0])\n",
    "\n",
    "\n",
    "\n",
    "\n",
    "\n",
    "if __name__ == '__main__':\n",
    "    tables_created = main()     "
   ]
  },
  {
   "cell_type": "code",
   "execution_count": null,
   "metadata": {},
   "outputs": [],
   "source": [
    "def modal_transition_matrix_maker(n_modes, e_vals):\n",
    "    \"\"\" Builds and returns markov modal transition matrix given the number of modes and eigenvalues\n",
    "    \n",
    "    params:\n",
    "        n_modes: \n",
    "            number of modes (k not +/- k); equal to number of lcoations\n",
    "        e_vals:\n",
    "            eigenvalues\n",
    "\n",
    "    return\n",
    "    \"\"\"\n"
   ]
  },
  {
   "cell_type": "code",
   "execution_count": null,
   "metadata": {},
   "outputs": [],
   "source": [
    "def markov_eigenmode_diffusion(n_modes, init_cond, transition_matrix, dt, n_iter):\n",
    "    \"\"\" Markov simulation for eigenmode analysis to capture calcium diffusion over time\n",
    "    params:\n",
    "        n_modes: \n",
    "            number of modes (k not +/- k); equal to number of lcoations\n",
    "        init_cond:\n",
    "            initial modal values\n",
    "        transition_matrix:\n",
    "            matrix containing probabilities of transitioning between states\n",
    "        dt:\n",
    "            timestep\n",
    "        n_iter:\n",
    "            number of iterations\n",
    "\n",
    "    return:\n",
    "    \"\"\"\n",
    "    return 0"
   ]
  },
  {
   "cell_type": "code",
   "execution_count": null,
   "metadata": {},
   "outputs": [],
   "source": [
    "# Simulate Markov process for stochastically opening and closing channels\n",
    "seed = 0\n",
    "np.random.seed(seed)\n",
    "def markov_vdcc_n(n_channels,trange,dt):\n",
    "    '''\n",
    "    Simulates a Markov process for the stochastic opening and closing of channels using\n",
    "    multinomial sampling.\n",
    "    \n",
    "    @param n_channels (int) - number of channels to model\n",
    "    @param trange (int/float array) - array over which the simulation takes place\n",
    "    @param dt (int/float) - time step\n",
    "    \n",
    "    @return n_per_state (int array) - number of channels in each state at each time point (shape: [trange, n_states])\n",
    "    @return ca (int array) - number of calcium that enters at each time point (shape: [trange])\n",
    "    @return ca_sum (int array) - total sum of calcium that has entered at that time (shape: [trange])\n",
    "    '''\n",
    "    n_states = 5\n",
    "    n_per_state = np.zeros((len(trange), n_states), dtype=int)\n",
    "    ca = np.zeros(len(trange), dtype=int)\n",
    "    ca_sum = np.zeros(len(trange), dtype=int)\n",
    "    \n",
    "    # All channels start in C0\n",
    "    n_per_state[0,0] = n_channels\n",
    "    \n",
    "    for t_index in range(len(trange)-1):\n",
    "        p_trans_0 = [1 - alpha_1(trange[t_index])*dt, alpha_1(trange[t_index])*dt, 0, 0, 0]\n",
    "        samp0 = np.random.multinomial(n_per_state[t_index,0], p_trans_0)\n",
    "        \n",
    "        \n",
    "        p_trans_1 = [beta_1(trange[t_index])*dt, 1 - (beta_1(trange[t_index])*dt + alpha_2(trange[t_index])*dt), \n",
    "                           alpha_2(trange[t_index])*dt, 0, 0]\n",
    "        samp1 = np.random.multinomial(n_per_state[t_index,1], p_trans_1)\n",
    "        \n",
    "        \n",
    "        p_trans_2 = [0, beta_2(trange[t_index])*dt, 1 - (beta_2(trange[t_index])*dt + alpha_3(trange[t_index])*dt), \n",
    "                           alpha_3(trange[t_index])*dt, 0]\n",
    "        samp2 = np.random.multinomial(n_per_state[t_index,2], p_trans_2)\n",
    "        \n",
    "        \n",
    "        p_trans_3 = [0, 0, beta_3(trange[t_index])*dt, 1 - (beta_3(trange[t_index])*dt + alpha_4(trange[t_index])*dt), \n",
    "                           alpha_4(trange[t_index])*dt]\n",
    "        samp3 = np.random.multinomial(n_per_state[t_index,3], p_trans_3)\n",
    "        \n",
    "        \n",
    "        p_trans_4 = [0, 0, 0, beta_4(trange[t_index])*dt, 1 - beta_4(trange[t_index])*dt]\n",
    "        samp4 = np.random.multinomial(n_per_state[t_index,4], p_trans_4)\n",
    "        \n",
    "        ca[t_index+1] = np.random.binomial(n_per_state[t_index,4], k_ca(trange[t_index])*dt)\n",
    "        ca_sum[t_index+1] = ca[t_index+1] + ca_sum[t_index]\n",
    "        \n",
    "        n_per_state[t_index+1,:] = samp0 + samp1 + samp2 + samp3 + samp4\n",
    "        \n",
    "    return n_per_state, ca, ca_sum"
   ]
  }
 ],
 "metadata": {
  "interpreter": {
   "hash": "aee8b7b246df8f9039afb4144a1f6fd8d2ca17a180786b69acc140d282b71a49"
  },
  "kernelspec": {
   "display_name": "Python 3.8.5 64-bit",
   "language": "python",
   "name": "python3"
  },
  "language_info": {
   "codemirror_mode": {
    "name": "ipython",
    "version": 3
   },
   "file_extension": ".py",
   "mimetype": "text/x-python",
   "name": "python",
   "nbconvert_exporter": "python",
   "pygments_lexer": "ipython3",
   "version": "3.8.5"
  },
  "orig_nbformat": 4
 },
 "nbformat": 4,
 "nbformat_minor": 2
}
