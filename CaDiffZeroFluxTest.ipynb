{
 "cells": [
  {
   "cell_type": "markdown",
   "source": [
    "Script for modeling calcium diffusion in a rectangular tube with zero flux in the x-, y-, and z-directions.\n",
    "\n",
    "Last updated: 08/18/21 4:30PM"
   ],
   "metadata": {
    "ExecuteTime": {
     "end_time": "2021-08-18T16:57:16.013225Z",
     "start_time": "2021-08-18T16:57:16.004393Z"
    }
   }
  },
  {
   "cell_type": "code",
   "execution_count": 1,
   "source": [
    "import math"
   ],
   "outputs": [],
   "metadata": {
    "ExecuteTime": {
     "end_time": "2021-08-18T16:57:27.589228Z",
     "start_time": "2021-08-18T16:57:27.586652Z"
    }
   }
  },
  {
   "cell_type": "code",
   "execution_count": 23,
   "source": [
    "# CONSTANTS\n",
    "L_x = 4     # X LENGTH (um)\n",
    "L_y = 0.5   # Y LENGTH (um)\n",
    "L_z = 0.5   # Z LENGTH (um)\n",
    "N_ca = 5275 # no. of ca\n",
    "x_o = 2.35  # VDCC X LOC (um)\n",
    "y_o = 0.25  # VDCC Y LOC (um)\n",
    "z_o = 0     # VDCC Z LOC (um)\n",
    "t_o = 0     # C rel time\n",
    "x = 2       # SNARE X LOC (um)\n",
    "y = 0.25    # SNARE Y LOC (um)\n",
    "z = 0       # SNARE Z LOC (um)\n",
    "D = 220     # Diffusion coeff (um^2/sec)\n",
    "\n",
    "# Test\n",
    "K = 10       # X eigenmodes\n",
    "L = 10       # Y eigenmodes\n",
    "M = 10       # Z eigenmodes\n",
    "t = .01   # time of interest (sec)"
   ],
   "outputs": [],
   "metadata": {
    "ExecuteTime": {
     "end_time": "2021-08-18T23:28:01.664014Z",
     "start_time": "2021-08-18T23:28:01.659001Z"
    }
   }
  },
  {
   "cell_type": "code",
   "execution_count": 4,
   "source": [
    "def g_xk(x, t, x_o, t_o, k):\n",
    "    '''\n",
    "    Green's component for the x-direction\n",
    "    '''\n",
    "\n",
    "    g_xk = (2/L_x) * math.cos((k*math.pi*x_o)/L_x) * math.cos((k*math.pi*x)/L_x)\\\n",
    "        * math.exp(-D*(k*math.pi/L_x)**2*(t - t_o))\n",
    "\n",
    "    return g_xk"
   ],
   "outputs": [],
   "metadata": {
    "ExecuteTime": {
     "end_time": "2021-08-18T23:28:02.090337Z",
     "start_time": "2021-08-18T23:28:02.086325Z"
    }
   }
  },
  {
   "cell_type": "code",
   "execution_count": 5,
   "source": [
    "def g_yl(y, t, y_o, t_o, l):\n",
    "    '''\n",
    "    Green's component for the y-direction\n",
    "    '''\n",
    "\n",
    "    g_yl = (2/L_y) * math.cos((l*math.pi*y_o)/L_y) * math.cos((l*math.pi*y)/L_y)\\\n",
    "        * math.exp(-D*(l*math.pi/L_y)**2*(t - t_o))\n",
    "        \n",
    "    return g_yl"
   ],
   "outputs": [],
   "metadata": {
    "ExecuteTime": {
     "end_time": "2021-08-18T23:28:02.485477Z",
     "start_time": "2021-08-18T23:28:02.480652Z"
    }
   }
  },
  {
   "cell_type": "code",
   "execution_count": 6,
   "source": [
    "def g_zm(z, t, z_o, t_o, m):\n",
    "    '''\n",
    "    Green's component for the z-direction\n",
    "    '''\n",
    "\n",
    "    g_zm = (2/L_z) * math.cos((m*math.pi*z_o)/L_z) * math.cos((m*math.pi*z)/L_z)\\\n",
    "        * math.exp(-D*(m*math.pi/L_z)**2*(t - t_o))\n",
    "        \n",
    "    return g_zm"
   ],
   "outputs": [],
   "metadata": {
    "ExecuteTime": {
     "end_time": "2021-08-18T23:28:02.924572Z",
     "start_time": "2021-08-18T23:28:02.919379Z"
    }
   }
  },
  {
   "cell_type": "code",
   "execution_count": 7,
   "source": [
    "def G(x, y, z, t, x_o, y_o, z_o, t_o, K, L, M):\n",
    "    '''\n",
    "    Overall Green's function for diffusion in the x-, y-, and z-directions\n",
    "    '''\n",
    "\n",
    "    G = 0 # initialize\n",
    "\n",
    "    # sum across all eigenmodes of interest\n",
    "    for k in range(K):\n",
    "        for l in range(L):\n",
    "            for m in range(M):\n",
    "                G += g_xk(x, t, x_o, t_o, k) * g_yl(y, t, y_o, t_o, l) * g_zm(z, t, z_o, t_o, m)\n",
    "\n",
    "    return G"
   ],
   "outputs": [],
   "metadata": {
    "ExecuteTime": {
     "end_time": "2021-08-18T23:28:03.779551Z",
     "start_time": "2021-08-18T23:28:03.774118Z"
    }
   }
  },
  {
   "cell_type": "code",
   "execution_count": 26,
   "source": [
    "def u(N_ca, x, y, z, t, x_o, y_o, z_o, t_o, K, L, M):\n",
    "    '''\n",
    "    Resulting concentration of calcium at point (x, y, z) at time t\n",
    "    '''\n",
    "    \n",
    "    u = N_ca * G(x, y, z, t, x_o, y_o, z_o, t_o, K, L, M) \n",
    "\n",
    "    print(G(x, y, z, t, x_o, y_o, z_o, t_o, K, L, M))\n",
    "    \n",
    "    return u"
   ],
   "outputs": [],
   "metadata": {
    "ExecuteTime": {
     "end_time": "2021-08-18T23:28:04.565946Z",
     "start_time": "2021-08-18T23:28:04.561291Z"
    }
   }
  },
  {
   "cell_type": "code",
   "execution_count": 25,
   "source": [
    "u(N_ca, x, y, z, t, x_o, y_o, z_o, t_o, K, L, M)"
   ],
   "outputs": [
    {
     "output_type": "stream",
     "name": "stdout",
     "text": [
      "8.02994902523004\n"
     ]
    },
    {
     "output_type": "execute_result",
     "data": {
      "text/plain": [
       "42357.98110808846"
      ]
     },
     "metadata": {},
     "execution_count": 25
    }
   ],
   "metadata": {
    "ExecuteTime": {
     "end_time": "2021-08-18T23:28:04.974365Z",
     "start_time": "2021-08-18T23:28:04.967707Z"
    }
   }
  },
  {
   "cell_type": "code",
   "execution_count": null,
   "source": [],
   "outputs": [],
   "metadata": {}
  }
 ],
 "metadata": {
  "kernelspec": {
   "name": "python3",
   "display_name": "Python 3.8.5 64-bit ('base': conda)"
  },
  "language_info": {
   "codemirror_mode": {
    "name": "ipython",
    "version": 3
   },
   "file_extension": ".py",
   "mimetype": "text/x-python",
   "name": "python",
   "nbconvert_exporter": "python",
   "pygments_lexer": "ipython3",
   "version": "3.8.5"
  },
  "varInspector": {
   "cols": {
    "lenName": 16,
    "lenType": 16,
    "lenVar": 40
   },
   "kernels_config": {
    "python": {
     "delete_cmd_postfix": "",
     "delete_cmd_prefix": "del ",
     "library": "var_list.py",
     "varRefreshCmd": "print(var_dic_list())"
    },
    "r": {
     "delete_cmd_postfix": ") ",
     "delete_cmd_prefix": "rm(",
     "library": "var_list.r",
     "varRefreshCmd": "cat(var_dic_list()) "
    }
   },
   "types_to_exclude": [
    "module",
    "function",
    "builtin_function_or_method",
    "instance",
    "_Feature"
   ],
   "window_display": false
  },
  "interpreter": {
   "hash": "98f15700a9be0b03ececd51678b6b5704dfd78fdf827979b28e9c3a431ae808e"
  }
 },
 "nbformat": 4,
 "nbformat_minor": 4
}