{
 "cells": [
  {
   "cell_type": "markdown",
   "metadata": {},
   "source": [
    "Script for modeling calcium diffusion in a rectangular tube with zero flux in the x-, y-, and z-directions. \n",
    "Compares output from analytical solution and MCell solution.\n",
    "\n",
    "Last updated: 12/15/21 7:24PM"
   ]
  },
  {
   "cell_type": "code",
   "execution_count": 1,
   "metadata": {},
   "outputs": [],
   "source": [
    "import math\n",
    "import numpy as np\n",
    "import matplotlib.pyplot as plt\n",
    "import pandas as pd\n",
    "import os\n",
    "import glob\n",
    "import seaborn as sns\n",
    "from scipy import stats"
   ]
  },
  {
   "cell_type": "code",
   "execution_count": 2,
   "metadata": {},
   "outputs": [],
   "source": [
    "# GLOBAL CONSTANT\n",
    "D = 2.20e-4     # Diffusion coeff (um^2/usec)"
   ]
  },
  {
   "cell_type": "markdown",
   "metadata": {},
   "source": [
    "__________________________"
   ]
  },
  {
   "cell_type": "markdown",
   "metadata": {},
   "source": [
    "ANALYTICAL SOLUTION CODE"
   ]
  },
  {
   "cell_type": "markdown",
   "metadata": {},
   "source": [
    "__________________________"
   ]
  },
  {
   "cell_type": "code",
   "execution_count": 3,
   "metadata": {},
   "outputs": [],
   "source": [
    "def int_g_xk(x_o, t_o, x, t, delta_x, k):\n",
    "    \"\"\"Integrates x-direction Green's component\n",
    "\n",
    "    Integrates the individual x-direction Green's components for a given eigenmode (k)\n",
    "    for a box with y-dimension delta_x centered at x at time t given an initial impulse\n",
    "    at x_o at t = t_o\n",
    "    \n",
    "    Args:\n",
    "      x_o: \n",
    "        location of calcium impulse input, y-direction\n",
    "      t_o:\n",
    "        time of calcium impulse input\n",
    "      x:\n",
    "        location of interest point, y-direction\n",
    "      t:\n",
    "        time of interest point\n",
    "      k:\n",
    "        z-direction eigenmode\n",
    "\n",
    "    Returns:\n",
    "      A singular value giving the value of the integrated individual x-direction Green's components\n",
    "    \"\"\"\n",
    "\n",
    "    if k == 0:\n",
    "        int_g_xk = delta_x / L_x\n",
    "    \n",
    "    else:\n",
    "        int_g_xk = (4 / (k * math.pi)) * math.cos((k * math.pi * x_o) / L_x) \\\n",
    "            * math.cos((k * math.pi * x) / L_x) \\\n",
    "            * math.sin((k * math.pi * delta_x)/(L_x * 2))\\\n",
    "            * math.exp(-D * ((k * math.pi) / L_x)**2 * (t - t_o))\n",
    "\n",
    "    return int_g_xk"
   ]
  },
  {
   "cell_type": "code",
   "execution_count": 4,
   "metadata": {},
   "outputs": [],
   "source": [
    "def int_g_yl(y_o, t_o, y, t, delta_y, l):\n",
    "    \"\"\"Integrates y-direction Green's component\n",
    "\n",
    "    Integrates the individual y-direction Green's components for a given eigenmode (l)\n",
    "    for a box with y-dimension delta_y centered at y at time t given an initial impulse\n",
    "    at y_o at t = t_o\n",
    "    \n",
    "    Args:\n",
    "      y_o: \n",
    "        location of calcium impulse input, y-direction\n",
    "      t_o:\n",
    "        time of calcium impulse input\n",
    "      y:\n",
    "        location of interest point, y-direction\n",
    "      t:\n",
    "        time of interest point\n",
    "      l:\n",
    "        z-direction eigenmode\n",
    "\n",
    "    Returns:\n",
    "      A singular value giving the value of the integrated individual y-direction Green's components\n",
    "    \"\"\"\n",
    "\n",
    "    if l == 0:\n",
    "        int_g_yl = delta_y / L_y\n",
    "\n",
    "    else: \n",
    "        int_g_yl = (4 / (l * math.pi)) * math.cos((l * math.pi * y_o) / L_y) \\\n",
    "            * math.cos((l * math.pi * y) / L_y) \\\n",
    "            * math.sin((l * math.pi * delta_y) / (L_y * 2))\\\n",
    "            * math.exp(-D * ((l * math.pi) / L_y)**2 * (t - t_o))\n",
    "        \n",
    "    return int_g_yl"
   ]
  },
  {
   "cell_type": "code",
   "execution_count": 5,
   "metadata": {},
   "outputs": [],
   "source": [
    "def int_g_zm(z_o, t_o, z, t, delta_z, m):\n",
    "    \"\"\"Integrates z-direction Green's component\n",
    "\n",
    "    Integrates the individual z-direction Green's components for a given eigenmode (m)\n",
    "    for a box with z-dimension delta_z centered at z at time t given an initial impulse\n",
    "    at z_o at t = t_o\n",
    "    \n",
    "    Args:\n",
    "      z_o: \n",
    "        location of calcium impulse input, z-direction\n",
    "      t_o:\n",
    "        time of calcium impulse input\n",
    "      z:\n",
    "        location of interest point, z-direction\n",
    "      t:\n",
    "        time of interest point\n",
    "      m:\n",
    "        z-direction eigenmode\n",
    "\n",
    "    Returns:\n",
    "      A singular value giving the value of the integrated individual z-direction Green's components\n",
    "    \"\"\"\n",
    "    \n",
    "    if m == 0:\n",
    "        int_g_zm = delta_z / (2 * L_z)\n",
    "    \n",
    "    else:\n",
    "        int_g_zm = (2 / (m * math.pi)) * math.cos((m * math.pi * z_o) / L_z) \\\n",
    "            * math.cos((m * math.pi * z) / L_z) \\\n",
    "            * math.sin((m * math.pi * delta_z) / (L_z * 2))\\\n",
    "            * math.exp(-D * (m * math.pi / L_z)**2 * (t - t_o))\n",
    "        \n",
    "    return int_g_zm"
   ]
  },
  {
   "cell_type": "code",
   "execution_count": 6,
   "metadata": {},
   "outputs": [],
   "source": [
    "def int_G(impulse_xyzt, interest_xyzt, box_dim_xyz, eigenmodes_klm):\n",
    "    \"\"\"Sums Green's components for all directions and eigenmodes\n",
    "    \n",
    "    Sums the individual x-, y-, and z-direction Green's components across the desired number of\n",
    "    eigenmodes to give the normalized number of calcium molecules in a box with dimensions \n",
    "    (delta_x, delta_y, delta_z) centered at point (x, y, z) at time t given an initial impulse\n",
    "    of N_ca at (x_o, y_o, z_o) at t = t_o\n",
    "    \n",
    "    Args:\n",
    "      impulse_xyzt: \n",
    "        location and time of calcium impulse input; (x_o, y_o, z_o, t_o)\n",
    "      interest_xyzt: \n",
    "        location and time of interest point; (x, y, z, t)\n",
    "      box_dim_xyz: \n",
    "        dimensions of box of interest centered at interest_xyzt; (delta_x, delta_y, delta_z) \n",
    "      eigenmodes_klm: \n",
    "        total number of eigenmodes in x, y, and z directions accordingly; (K, L, M)\n",
    "\n",
    "    Returns:\n",
    "      A singular value giving the normalized number calcium molecules in a box with dimensions\n",
    "      given by box_dim_xyz centered at/at time given by interest_xyzt\n",
    "    \"\"\"\n",
    "    # unpack args\n",
    "    (x_o, y_o, z_o, t_o) = impulse_xyzt\n",
    "    (x, y, z, t) = interest_xyzt\n",
    "    (delta_x, delta_y, delta_z)  = box_dim_xyz\n",
    "    (K, L, M) = eigenmodes_klm\n",
    "\n",
    "    int_G = 0 # initialize\n",
    "\n",
    "    # sum across all eigenmodes of interest\n",
    "    for k in range(0, K):\n",
    "        for l in range(0, L):\n",
    "            for m in range(0, M):\n",
    "                int_G += int_g_xk(x_o, t_o, x, t, delta_x, k) * int_g_yl(y_o, t_o, y, t, delta_y, l) * int_g_zm(z_o, t_o, z, t, delta_z, m)\n",
    "\n",
    "    return int_G"
   ]
  },
  {
   "cell_type": "code",
   "execution_count": 7,
   "metadata": {},
   "outputs": [],
   "source": [
    "def u(N_ca, impulse_xyzt, interest_xyzt, box_dim_xyz, eigenmodes_klm):\n",
    "    \"\"\"Returns number of calcium \n",
    "    \n",
    "    Scales the normalized number of calcium molecules in a box with dimensions (delta_x, delta_y, delta_z) centered at\n",
    "    point (x, y, z) at time t by the initial impulse of N_ca at (x_o, y_o, z_o) at t = t_o\n",
    "    \n",
    "    Args:\n",
    "      N_ca:\n",
    "        the number of initial calcium molecules in the impulse injection\n",
    "      impulse_xyzt: \n",
    "        location and time of calcium impulse input; (x_o, y_o, z_o, t_o)\n",
    "      interest_xyzt: \n",
    "        location and time of interest point; (x, y, z, t)\n",
    "      box_dim_xyz: \n",
    "        dimensions of box of interest centered at interest_xyzt; (delta_x, delta_y, delta_z) \n",
    "      eigenmodes_klm: \n",
    "        total number of eigenmodes in x, y, and z directions accordingly; (K, L, M)\n",
    "\n",
    "    Returns:\n",
    "      A singular value giving the number of calcium molecules in a box with dimensions\n",
    "      given by box_dim_xyz centered at/at time given by interest_xyzt\n",
    "    \"\"\"\n",
    "     \n",
    "    u = N_ca * int_G(impulse_xyzt, interest_xyzt, box_dim_xyz, eigenmodes_klm) \n",
    "    \n",
    "    return u"
   ]
  },
  {
   "cell_type": "markdown",
   "metadata": {},
   "source": [
    "__________________________"
   ]
  },
  {
   "cell_type": "markdown",
   "metadata": {},
   "source": [
    "MCELL ANALYSIS CODE"
   ]
  },
  {
   "cell_type": "markdown",
   "metadata": {},
   "source": [
    "__________________________"
   ]
  },
  {
   "cell_type": "code",
   "execution_count": 8,
   "metadata": {},
   "outputs": [],
   "source": [
    "def ca_snare_finder(mcell_viz_dir, timepoint):\n",
    "    '''\n",
    "    Calculates average and standard deviation of concentration of calcium across all seeds\n",
    "    in a box around the SNARE complexes at a given time for MCell simulation.\n",
    "\n",
    "    :param mcell_dir: MCell ASCII data location\n",
    "    :param timepoint: which iteration/time point to plot\n",
    "    :param plot: if output should be plotted\n",
    "\n",
    "    :return: concentration of Ca in the SNARE at the given timepoint\n",
    "    '''   \n",
    "    \n",
    "    # SNARE box dimensions (using refrac box dimensions)\n",
    "    delta_x = 0.1   # SNARE BOX X LEN (um)\n",
    "    delta_y = 0.1   # SNARE BOX Y LEN (um)\n",
    "    delta_z = 0.1    # SNARE BOX X LEN (um)\n",
    "\n",
    "    # SNARE BOX LOCATION\n",
    "    # for a giant box snare complex \n",
    "    z_s = -.24550 # using refrac box location\n",
    "    snare_locs = [(0, 0, z_s)] # for only one giant SNARE (x, y, z)\n",
    "\n",
    "    n_ca_all_seeds = []\n",
    "\n",
    "    # for each seed, find the concentration of Ca2+ in the snare box at timepoint\n",
    "    for seed in sorted(os.listdir(mcell_viz_dir)):\n",
    "\n",
    "        # data file location\n",
    "        seed_data_dir = os.path.join(mcell_viz_dir, seed, 'Scene.ascii.{}.dat'.format(timepoint))\n",
    "\n",
    "        # create dataframe\n",
    "        loc_data = pd.read_csv(seed_data_dir, delim_whitespace=True, header=None,\n",
    "                           names=['type', 'id', 'x', 'y', 'z', 'norm_x', 'norm_y', 'norm_z'])\n",
    "\n",
    "        # select only calcium\n",
    "        loc_data = loc_data[loc_data['type'] == 'ca']\n",
    "\n",
    "        # initialize number of calcium in SNARE rxn zone\n",
    "        snare_ca_tot = 0        \n",
    "\n",
    "        # ONLY 1 SNARE TO START (big snare box)\n",
    "        for x_s, y_s, z_s in snare_locs:\n",
    "\n",
    "            # Ugly method (TODO: make nicer)\n",
    "            # get calcium location (x,y,z)\n",
    "            for ca_x, ca_y, ca_z in zip(loc_data['x'], loc_data['y'], loc_data['z']):\n",
    "                # check z direction\n",
    "                if (ca_z >= z_s - (delta_z / 2)) & (ca_z <= z_s + (delta_z / 2)):\n",
    "\n",
    "                    # check x direction\n",
    "                    if (ca_x >= x_s - (delta_x / 2)) & (ca_x <= x_s + (delta_x / 2)):\n",
    "\n",
    "                        # check y direction\n",
    "                        if (ca_y >= y_s - (delta_y / 2)) & (ca_y <= y_s +  (delta_y / 2)):\n",
    "                            snare_ca_tot += 1\n",
    "            \n",
    "        # append seed conc to all seeds\n",
    "        n_ca_all_seeds.append(snare_ca_tot)\n",
    "\n",
    "    return np.mean(n_ca_all_seeds), np.std(n_ca_all_seeds)"
   ]
  },
  {
   "cell_type": "code",
   "execution_count": 9,
   "metadata": {},
   "outputs": [
    {
     "name": "stdout",
     "output_type": "stream",
     "text": [
      "['0000', '0005', '0010', '0015', '0020', '0025', '0030', '0035', '0040', '0045', '0050', '0055', '0060', '0065', '0070', '0075', '0080', '0085', '0090', '0095', '0100', '0105', '0110', '0115', '0120', '0125', '0130', '0135', '0140', '0145', '0150', '0155', '0160', '0165', '0170', '0175', '0180', '0185', '0190', '0195', '0200', '0205', '0210', '0215', '0220', '0225', '0230', '0235', '0240', '0245', '0250', '0255', '0260', '0265', '0270', '0275', '0280', '0285', '0290', '0295', '0300', '0305', '0310', '0315', '0320', '0325', '0330', '0335', '0340', '0345', '0350', '0355', '0360', '0365', '0370', '0375', '0380', '0385', '0390', '0395', '0400', '0405', '0410', '0415', '0420', '0425', '0430', '0435', '0440', '0445', '0450', '0455', '0460', '0465', '0470', '0475', '0480', '0485', '0490', '0495', '0500', '0505', '0510', '0515', '0520', '0525', '0530', '0535', '0540', '0545', '0550', '0555', '0560', '0565', '0570', '0575', '0580', '0585', '0590', '0595', '0600', '0605', '0610', '0615', '0620', '0625', '0630', '0635', '0640', '0645', '0650', '0655', '0660', '0665', '0670', '0675', '0680', '0685', '0690', '0695', '0700', '0705', '0710', '0715', '0720', '0725', '0730', '0735', '0740', '0745', '0750', '0755', '0760', '0765', '0770', '0775', '0780', '0785', '0790', '0795', '0800', '0805', '0810', '0815', '0820', '0825', '0830', '0835', '0840', '0845', '0850', '0855', '0860', '0865', '0870', '0875', '0880', '0885', '0890', '0895', '0900', '0905', '0910', '0915', '0920', '0925', '0930', '0935', '0940', '0945', '0950', '0955', '0960', '0965', '0970', '0975', '0980', '0985', '0990', '0995', '1000']\n"
     ]
    }
   ],
   "source": [
    "# plot for multiple time points\n",
    "mcell_dir = \"/Users/margotwagner/ucsd/research/DiffusionModel/\" \\\n",
    "            \"rect_zeroflux_nocalbpmca_files/mcell/output_data/viz_data_ascii\"\n",
    "\n",
    "# get time points\n",
    "timepts = [scene.split('.')[2] for scene in os.listdir(os.path.join(mcell_dir, 'seed_00001'))]\n",
    "timepts.sort()\n",
    "\n",
    "#sample points\n",
    "sampled_timepts = [timepts[i] for i in range(len(timepts)) if i%1==0]\n",
    "print(sampled_timepts)"
   ]
  },
  {
   "cell_type": "markdown",
   "metadata": {},
   "source": [
    "________________"
   ]
  },
  {
   "cell_type": "markdown",
   "metadata": {},
   "source": [
    "ASSIGN PARAMETERS"
   ]
  },
  {
   "cell_type": "markdown",
   "metadata": {},
   "source": [
    "________________"
   ]
  },
  {
   "cell_type": "code",
   "execution_count": 10,
   "metadata": {},
   "outputs": [],
   "source": [
    "# CONSTANTS\n",
    "L_x = 4     # X LENGTH (um)\n",
    "L_y = 0.5   # Y LENGTH (um)\n",
    "L_z = 0.5   # Z LENGTH (um)\n",
    "\n",
    "x_o = 2.35  # VDCC X LOC (um)\n",
    "y_o = 0.25  # VDCC Y LOC (um)\n",
    "z_o = 0     # VDCC Z LOC (um)\n",
    "t_o = 0     # C rel time (usec)\n",
    "\n",
    "x_s = 2       # SNARE BOX CENTER X LOC (um)\n",
    "y_s = 0.25    # SNARE BOX CENTER Y LOC (um)\n",
    "z_s = 0       # SNARE BOX CENTER Z LOC (um)\n",
    "\n",
    "'''\n",
    "delta_x = 0.040   # SNARE BOX X LEN (um)\n",
    "delta_y = 0.035   # SNARE BOX Y LEN (um)\n",
    "delta_z = 0.05    # SNARE BOX X LEN (um)\n",
    "'''\n",
    "\n",
    "delta_x = 0.1   # SNARE BOX X LEN (um)\n",
    "delta_y = 0.1   # SNARE BOX Y LEN (um)\n",
    "delta_z = 0.05    # SNARE BOX Z LEN (um)\n",
    "\n",
    "N_ca = 5275 # no. of ca\n",
    "conc_ca_init = N_ca / (6.022e23 * 1e-15)\n",
    "\n",
    "\n",
    "\n",
    "# Test\n",
    "K = 100       # X eigenmodes\n",
    "L = 100       # Y eigenmodes\n",
    "M = 100       # Z eigenmodes\n",
    "t = 10       # time of interest (microsec, usec) \"MCell models were also run 1,000 times for 10 $ms$ with a timestep of 1 $\\mu s$\""
   ]
  },
  {
   "cell_type": "code",
   "execution_count": null,
   "metadata": {},
   "outputs": [],
   "source": [
    "# CHANGE TO ONLY RUN IF PARAMS CHANGED AND TO GIVE A USER WARNING\n",
    "# All time points\n",
    "#n_ca_all_mean = []\n",
    "#n_ca_all_std = []\n",
    "#for tp in sampled_timepts:\n",
    "#    n_ca_all_mean.append(ca_snare_finder(mcell_dir, tp)[0])\n",
    "#    n_ca_all_std.append(ca_snare_finder(mcell_dir, tp)[1])"
   ]
  },
  {
   "cell_type": "code",
   "execution_count": null,
   "metadata": {},
   "outputs": [],
   "source": [
    "# SAME AS ABOVE\n",
    "#with open(\"n_ca_all_mean.txt\", \"w\") as output:\n",
    "#    output.write(str(n_ca_all_mean))\n",
    "\n",
    "#with open(\"n_ca_all_std.txt\", \"w\") as output:\n",
    "#    output.write(str(n_ca_all_std))\n",
    "\n",
    "# OTHERWISE JUST LOAD"
   ]
  },
  {
   "cell_type": "code",
   "execution_count": 25,
   "metadata": {},
   "outputs": [],
   "source": [
    "# Load MCell results\n",
    "# Mean\n",
    "with open(\"n_ca_all_mean.txt\", \"r\") as f:\n",
    "    for line in f:\n",
    "        n_ca_all_mean = line.strip('[]').split(',')\n",
    "\n",
    "n_ca_all_mean = [float(x) for x in n_ca_all_mean]\n",
    "\n",
    "# Std dev\n",
    "with open(\"n_ca_all_std.txt\", \"r\") as f:\n",
    "    for line in f:\n",
    "        n_ca_all_std = line.strip('[]').split(',')\n",
    "\n",
    "n_ca_all_std = [float(x) for x in n_ca_all_std]\n"
   ]
  },
  {
   "cell_type": "code",
   "execution_count": 11,
   "metadata": {},
   "outputs": [
    {
     "data": {
      "text/plain": [
       "0.002579916933914045"
      ]
     },
     "execution_count": 11,
     "metadata": {},
     "output_type": "execute_result"
    }
   ],
   "source": [
    "u(N_ca, (x_o, y_o, z_o, t_o), (x_s, y_s, z_s, t), (delta_x, delta_y, delta_z), (K, L, M))\n",
    "#def int_G(x_s, y_s, z_s, t, x_o, y_o, z_o, t_o, delta_x, delta_y, delta_z, K, L, M):"
   ]
  },
  {
   "cell_type": "code",
   "execution_count": 12,
   "metadata": {},
   "outputs": [],
   "source": [
    "timepoints = np.linspace(1, 1000, 200)\n",
    "ca_s = []\n",
    "\n",
    "for t in timepoints:\n",
    "    ca_s.append(u(N_ca, (x_o, y_o, z_o, t_o), (x_s, y_s, z_s, t), (delta_x, delta_y, delta_z), (K, L, M)))\n",
    "\n",
    "# SAVE ANALYTICAL SOLN OUTPUT\n",
    "    "
   ]
  },
  {
   "cell_type": "code",
   "execution_count": 13,
   "metadata": {},
   "outputs": [
    {
     "data": {
      "image/png": "[encoded data removed]",
      "text/plain": [
       "<Figure size 432x288 with 1 Axes>"
      ]
     },
     "metadata": {
      "needs_background": "light"
     },
     "output_type": "display_data"
    }
   ],
   "source": [
    "# CODE FOR ANALYTICAL SOLUTION PLOTTING\n",
    "ca_s = np.array(ca_s)\n",
    "ca_s[ca_s < 0] = 0\n",
    "plt.plot(timepoints, ca_s)\n",
    "plt.axhline(2.6375, color='k', linestyle='--', alpha=0.3)\n",
    "#plt.yscale('log')\n",
    "plt.ylim([0,6])\n",
    "plt.xlabel(\"Timepoint (microsecond)\")\n",
    "plt.ylabel(\"Number of Ca in SNARE box\")\n",
    "plt.show()"
   ]
  },
  {
   "cell_type": "code",
   "execution_count": 26,
   "metadata": {},
   "outputs": [
    {
     "data": {
      "image/png": "[encoded data removed]",
      "text/plain": [
       "<Figure size 504x288 with 1 Axes>"
      ]
     },
     "metadata": {
      "needs_background": "light"
     },
     "output_type": "display_data"
    }
   ],
   "source": [
    "# CODE FOR MCELL PLOTTING\n",
    "timepts_int = [int(tp) for tp in sampled_timepts]\n",
    "\n",
    "plt.figure(figsize=(7, 4))\n",
    "plt.fill_between(timepts_int, np.array(n_ca_all_mean) - np.array(n_ca_all_std), np.array(n_ca_all_mean) + np.array(n_ca_all_std),\n",
    "                alpha = 0.2, color = 'k')\n",
    "plt.plot(timepts_int, n_ca_all_mean)\n",
    "plt.plot(timepts_int, np.array(n_ca_all_mean) + np.array(n_ca_all_std), color = 'k', alpha = 0.5)\n",
    "plt.plot(timepts_int, np.array(n_ca_all_mean) - np.array(n_ca_all_std), color = 'k', alpha = 0.5)\n",
    "plt.xlabel(\"Timepoint (microseconds)\")\n",
    "plt.ylabel(\"Number of Ca in the SNARE box\")\n",
    "plt.savefig('ca_diff_mcell_output_num.png')\n",
    "plt.show()"
   ]
  },
  {
   "cell_type": "code",
   "execution_count": 38,
   "metadata": {},
   "outputs": [
    {
     "data": {
      "image/png": "[encoded data removed]",
      "text/plain": [
       "<Figure size 504x288 with 1 Axes>"
      ]
     },
     "metadata": {
      "needs_background": "light"
     },
     "output_type": "display_data"
    }
   ],
   "source": [
    "# COMPARE OUTPUT \n",
    "plt.figure(figsize=(7, 4))\n",
    "\n",
    "# EXPECTED LONG TERM BEHAVIOR\n",
    "plt.axhline(2.6375, color='k', linestyle='--', alpha=0.3)\n",
    "\n",
    "# ANALYTICAL SOLUTION PLOTTING\n",
    "ca_s = np.array(ca_s)\n",
    "ca_s[ca_s < 0] = 0\n",
    "plt.plot(timepoints, ca_s)\n",
    "\n",
    "# MCELL PLOTTING\n",
    "timepts_int = [int(tp) for tp in sampled_timepts]\n",
    "plt.fill_between(timepts_int, (np.array(n_ca_all_mean) - np.array(n_ca_all_std))/2, (np.array(n_ca_all_mean) + np.array(n_ca_all_std))/2,\n",
    "                alpha = 0.2, color = 'k')\n",
    "plt.plot(timepts_int, np.array(n_ca_all_mean)/2)\n",
    "plt.plot(timepts_int, (np.array(n_ca_all_mean) + np.array(n_ca_all_std))/2, color = 'k', alpha = 0.5)\n",
    "plt.plot(timepts_int, (np.array(n_ca_all_mean) - np.array(n_ca_all_std))/2, color = 'k', alpha = 0.5)\n",
    "\n",
    "\n",
    "# MAKE PLOT PRETTY\n",
    "plt.legend([\"Expected\", \"Analytical\", \"MCell\"])\n",
    "plt.ylim([0,7])\n",
    "plt.xlim([0, 1000])\n",
    "plt.xlabel(\"Timepoint (microsecond)\")\n",
    "plt.ylabel(\"Number of Ca in SNARE box\")\n",
    "plt.savefig('ca_diff_output.png')\n",
    "plt.show()"
   ]
  }
 ],
 "metadata": {
  "interpreter": {
   "hash": "57d1dc6e5bbfbf1112d5e37952581db9c44bf06d525ba77b7a2773946a21e29c"
  },
  "kernelspec": {
   "display_name": "Python 3.8.5 64-bit ('base': conda)",
   "language": "python",
   "name": "python3"
  },
  "language_info": {
   "codemirror_mode": {
    "name": "ipython",
    "version": 3
   },
   "file_extension": ".py",
   "mimetype": "text/x-python",
   "name": "python",
   "nbconvert_exporter": "python",
   "pygments_lexer": "ipython3",
   "version": "3.8.5"
  },
  "orig_nbformat": 4
 },
 "nbformat": 4,
 "nbformat_minor": 2
}
