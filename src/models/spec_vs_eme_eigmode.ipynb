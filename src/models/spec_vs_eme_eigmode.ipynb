{
 "cells": [
  {
   "cell_type": "code",
   "execution_count": 1,
   "metadata": {},
   "outputs": [
    {
     "name": "stdout",
     "output_type": "stream",
     "text": [
      "[0.         0.0001357  0.00054265 0.00122048 0.00216851 0.00338584\n",
      " 0.00487129 0.00662342 0.00864053 0.01092067 0.01346164 0.01626098\n",
      " 0.01931598 0.02262369 0.0261809  0.02998418 0.03402984 0.03831397\n",
      " 0.04283242 0.04758084 0.05255461 0.05774893 0.06315877 0.06877891\n",
      " 0.0746039  0.0806281  0.0868457  0.09325067 0.09983682 0.10659777\n",
      " 0.11352699 0.12061778 0.12786326 0.13525644 0.14279016 0.15045713\n",
      " 0.15824993 0.16616103 0.17418278 0.1823074  0.19052705 0.19883376\n",
      " 0.20721951 0.21567618 0.22419559 0.2327695  0.24138961 0.25004758\n",
      " 0.25873504 0.26744359 0.27616479 0.28489021 0.29361141 0.30231996\n",
      " 0.31100742 0.31966539 0.3282855  0.33685941 0.34537882 0.35383549\n",
      " 0.36222124 0.37052795 0.3787476  0.38687222 0.39489397 0.40280507\n",
      " 0.41059787 0.41826484 0.42579856 0.43319174 0.44043722 0.44752801\n",
      " 0.45445723 0.46121818 0.46780433 0.4742093  0.4804269  0.4864511\n",
      " 0.49227609 0.49789623 0.50330607 0.50850039 0.51347416 0.51822258\n",
      " 0.52274103 0.52702516 0.53107082 0.5348741  0.53843131 0.54173902\n",
      " 0.54479402 0.54759336 0.55013433 0.55241447 0.55443158 0.55618371\n",
      " 0.55766916 0.55888649 0.55983452 0.56051235 0.5609193 ]\n"
     ]
    },
    {
     "data": {
      "text/plain": [
       "array([[1.        , 1.        , 1.        , ..., 1.        , 1.        ,\n",
       "        1.        ],\n",
       "       [1.        , 0.99986431, 0.99972864, ..., 0.98692372, 0.98678981,\n",
       "        0.98665592],\n",
       "       [1.        , 0.99945749, 0.99891528, ..., 0.94872399, 0.94820931,\n",
       "        0.9476949 ],\n",
       "       ...,\n",
       "       [1.        , 0.57130359, 0.3263878 , ..., 0.        , 0.        ,\n",
       "        0.        ],\n",
       "       [1.        , 0.57091648, 0.32594563, ..., 0.        , 0.        ,\n",
       "        0.        ],\n",
       "       [1.        , 0.57068419, 0.32568045, ..., 0.        , 0.        ,\n",
       "        0.        ]])"
      ]
     },
     "execution_count": 1,
     "metadata": {},
     "output_type": "execute_result"
    }
   ],
   "source": [
    "import numpy as np\n",
    "from EigenmarkovDiffusion import EigenmarkovDiffusion\n",
    "from SpectralRxnDiffusion import SpectralRxnDiffusion\n",
    "\n",
    "\n",
    "eigenmarkov = EigenmarkovDiffusion(\n",
    "    n_particles=58,\n",
    "    n_spatial_locs=101,\n",
    "    n_time_pts=100,\n",
    "    particle_start_loc=58,\n",
    "    scaling_factor=2,\n",
    ")\n",
    "n_time_pts = 100\n",
    "emd_eig_values, emd_eig_vectors, idx = eigenmarkov.get_eigenvalues_and_vectors(\n",
    "    print_output=False\n",
    ")\n",
    "print(emd_eig_values)\n",
    "\n",
    "time = np.array(range(n_time_pts))\n",
    "emd_modes = []\n",
    "for λ in emd_eig_values:\n",
    "    emd_mode = eigenmarkov.get_eigenmode(λ, time)\n",
    "    emd_modes.append(emd_mode)\n",
    "\n",
    "\n",
    "emd_modes = np.array(emd_modes)\n",
    "emd_modes\n"
   ]
  },
  {
   "cell_type": "code",
   "execution_count": 6,
   "metadata": {},
   "outputs": [
    {
     "name": "stdout",
     "output_type": "stream",
     "text": [
      "Initializing dTdt solver...\n",
      "Solving dTdt...\n",
      "Initializing solution array...\n",
      "Beginning simulation...\n",
      "Time step:  0\n",
      "Time step:  10\n",
      "Time step:  20\n",
      "Time step:  30\n",
      "Time step:  40\n",
      "Time step:  50\n",
      "Time step:  60\n",
      "Time step:  70\n",
      "Time step:  80\n",
      "Time step:  90\n",
      "Simulation complete!\n"
     ]
    }
   ],
   "source": [
    "def get_ca_init_loc():\n",
    "    # VDCC\n",
    "    vdcc_loc = 2.35  # um\n",
    "\n",
    "    return vdcc_loc\n",
    "\n",
    "\n",
    "def get_ca_init_idx(n_space_pts):\n",
    "    vdcc_loc = get_ca_init_loc()\n",
    "\n",
    "    z = 4  # um\n",
    "    dx = z / n_space_pts\n",
    "\n",
    "    return int(vdcc_loc / dx)\n",
    "\n",
    "\n",
    "n_time_pts = 100  # number of time points\n",
    "n_space_pts = 101 \n",
    "ca_init_idx = get_ca_init_idx(n_space_pts)\n",
    "\n",
    "# Changed from 300 for a more 1-1 comparison\n",
    "n_eigenmodes = 101\n",
    "\n",
    "# Spectral Method (calbindin reactions)\n",
    "sd = SpectralRxnDiffusion(\n",
    "    n_spatial_locs=n_space_pts,\n",
    "    n_time_pts=n_time_pts,\n",
    "    impulse_idx=ca_init_idx,\n",
    "    n_eigenmodes=n_eigenmodes,\n",
    ")\n",
    "\n",
    "# SPECTRAL DIFFUSION\n",
    "\n",
    "# sd.plot_diffusion([0, 1, 5, 20, 40, 50, 100])\n",
    "\n",
    "sd.solve_dTdt(\n",
    "    save_dir=f\"../data/spectral-diffusion/eigenmode-exps/{n_eigenmodes}/T.npy\"\n",
    ")\n",
    "\n",
    "\n",
    "sd.simulate_diffusion()\n",
    "test = np.load(f\"../data/spectral-diffusion/eigenmode-exps/{n_eigenmodes}/T.npy\")\n",
    "# srd_modes = np.zeroes((sd.spatial_mesh.shape, sd.u_diff))\n"
   ]
  },
  {
   "cell_type": "code",
   "execution_count": 7,
   "metadata": {},
   "outputs": [],
   "source": [
    "# sd_modes = []\n",
    "# for n in range(n_eigenmodes):\n",
    "#     λ = sd.lambda_value(n)\n",
    "#     sd_mode = eigenmarkov.get_eigenmode(λ, time) \n",
    "#     sd_modes.append(sd_mode)\n",
    "\n",
    "sd_modes = []\n",
    "for n in range(n_eigenmodes):\n",
    "    sd_mode = sd.get_eigenmode(n, time)\n",
    "    sd_modes.append(sd_mode)\n",
    "\n",
    "\n",
    "sd_modes = np.array(sd_modes)"
   ]
  },
  {
   "cell_type": "code",
   "execution_count": 10,
   "metadata": {},
   "outputs": [
    {
     "name": "stdout",
     "output_type": "stream",
     "text": [
      "[[1.         1.         1.         ... 1.         1.         1.        ]\n",
      " [1.         0.9998643  0.99972862 ... 0.98692268 0.98678875 0.98665485]\n",
      " [1.         0.99945732 0.99891493 ... 0.94870789 0.94819304 0.94767847]\n",
      " ...\n",
      " [1.         0.27162561 0.07378047 ... 0.         0.         0.        ]\n",
      " [1.         0.2644601  0.06993914 ... 0.         0.         0.        ]\n",
      " [1.         0.25741374 0.06626183 ... 0.         0.         0.        ]]\n",
      "[[1.         1.         1.         ... 1.         1.         1.        ]\n",
      " [1.         0.99986431 0.99972864 ... 0.98692372 0.98678981 0.98665592]\n",
      " [1.         0.99945749 0.99891528 ... 0.94872399 0.94820931 0.9476949 ]\n",
      " ...\n",
      " [1.         0.57130359 0.3263878  ... 0.         0.         0.        ]\n",
      " [1.         0.57091648 0.32594563 ... 0.         0.         0.        ]\n",
      " [1.         0.57068419 0.32568045 ... 0.         0.         0.        ]]\n"
     ]
    }
   ],
   "source": [
    "print(sd_modes)\n",
    "print(emd_modes)"
   ]
  },
  {
   "cell_type": "code",
   "execution_count": null,
   "metadata": {},
   "outputs": [],
   "source": []
  }
 ],
 "metadata": {
  "kernelspec": {
   "display_name": "eeg",
   "language": "python",
   "name": "python3"
  },
  "language_info": {
   "codemirror_mode": {
    "name": "ipython",
    "version": 3
   },
   "file_extension": ".py",
   "mimetype": "text/x-python",
   "name": "python",
   "nbconvert_exporter": "python",
   "pygments_lexer": "ipython3",
   "version": "3.11.4"
  }
 },
 "nbformat": 4,
 "nbformat_minor": 2
}
