{
 "cells": [
  {
   "cell_type": "markdown",
   "metadata": {
    "ExecuteTime": {
     "end_time": "2021-08-18T16:57:16.013225Z",
     "start_time": "2021-08-18T16:57:16.004393Z"
    }
   },
   "source": [
    "Script for modeling calcium diffusion in a rectangular tube with zero flux in the x-, y-, and z-directions.\n",
    "\n",
    "Last updated: 11/19/21 12:57PM"
   ]
  },
  {
   "cell_type": "code",
   "execution_count": 1,
   "metadata": {
    "ExecuteTime": {
     "end_time": "2021-08-18T16:57:27.589228Z",
     "start_time": "2021-08-18T16:57:27.586652Z"
    }
   },
   "outputs": [],
   "source": [
    "import math\n",
    "import numpy as np\n",
    "import matplotlib.pyplot as plt"
   ]
  },
  {
   "cell_type": "code",
   "execution_count": 2,
   "metadata": {
    "ExecuteTime": {
     "end_time": "2021-08-18T23:28:01.664014Z",
     "start_time": "2021-08-18T23:28:01.659001Z"
    }
   },
   "outputs": [],
   "source": [
    "# CONSTANTS\n",
    "L_x = 4     # X LENGTH (um)\n",
    "L_y = 0.5   # Y LENGTH (um)\n",
    "L_z = 0.5   # Z LENGTH (um)\n",
    "\n",
    "x_o = 2.35  # VDCC X LOC (um)\n",
    "y_o = 0.25  # VDCC Y LOC (um)\n",
    "z_o = 0     # VDCC Z LOC (um)\n",
    "t_o = 0     # C rel time (usec)\n",
    "\n",
    "x_s = 2       # SNARE BOX CENTER X LOC (um)\n",
    "y_s = 0.25    # SNARE BOX CENTER Y LOC (um)\n",
    "z_s = 0       # SNARE BOX CENTER Z LOC (um)\n",
    "\n",
    "'''\n",
    "delta_x = 0.040   # SNARE BOX X LEN (um)\n",
    "delta_y = 0.035   # SNARE BOX Y LEN (um)\n",
    "delta_z = 0.05    # SNARE BOX X LEN (um)\n",
    "'''\n",
    "\n",
    "delta_x = 0.1   # SNARE BOX X LEN (um)\n",
    "delta_y = 0.1   # SNARE BOX Y LEN (um)\n",
    "delta_z = 0.1    # SNARE BOX X LEN (um)\n",
    "\n",
    "N_ca = 5275 # no. of ca\n",
    "conc_ca_init = N_ca / (6.022e23 * 1e-15)\n",
    "D = 2.20e-4     # Diffusion coeff (um^2/usec)\n",
    "\n",
    "\n",
    "# Test\n",
    "K = 20       # X eigenmodes\n",
    "L = 20       # Y eigenmodes\n",
    "M = 20       # Z eigenmodes\n",
    "t = 10       # time of interest (microsec, usec) \"MCell models were also run 1,000 times for 10 $ms$ with a timestep of 1 $\\mu s$\""
   ]
  },
  {
   "cell_type": "code",
   "execution_count": 4,
   "metadata": {
    "ExecuteTime": {
     "end_time": "2021-08-18T23:28:02.090337Z",
     "start_time": "2021-08-18T23:28:02.086325Z"
    }
   },
   "outputs": [],
   "source": [
    "def int_g_xk(x_o, t_o, x, t, delta_x, k):\n",
    "    \"\"\"Integrates x-direction Green's component\n",
    "\n",
    "    Integrates the individual x-direction Green's components for a given eigenmode (k)\n",
    "    for a box with y-dimension delta_x centered at x at time t given an initial impulse\n",
    "    at x_o at t = t_o\n",
    "    \n",
    "    Args:\n",
    "      x_o: \n",
    "        location of calcium impulse input, y-direction\n",
    "      t_o:\n",
    "        time of calcium impulse input\n",
    "      x:\n",
    "        location of interest point, y-direction\n",
    "      t:\n",
    "        time of interest point\n",
    "      k:\n",
    "        z-direction eigenmode\n",
    "\n",
    "    Returns:\n",
    "      A singular value giving the value of the integrated individual x-direction Green's components\n",
    "    \"\"\"\n",
    "\n",
    "    if k == 0:\n",
    "        int_g_xk = 2 * delta_x / L_x\n",
    "    \n",
    "    else:\n",
    "        int_g_xk = (4 / (k * math.pi)) * math.cos((k * math.pi * x_o) / L_x) \\\n",
    "            * math.cos((k * math.pi * x) / L_x) \\\n",
    "            * math.sin((k * math.pi * delta_x)/(L_x * 2))\\\n",
    "            * math.exp(-D * ((k * math.pi) / L_x)**2 * (t - t_o))\n",
    "\n",
    "    return int_g_xk"
   ]
  },
  {
   "cell_type": "code",
   "execution_count": 5,
   "metadata": {
    "ExecuteTime": {
     "end_time": "2021-08-18T23:28:02.485477Z",
     "start_time": "2021-08-18T23:28:02.480652Z"
    }
   },
   "outputs": [],
   "source": [
    "def int_g_yl(y_o, t_o, y, t, delta_y, l):\n",
    "    \"\"\"Integrates y-direction Green's component\n",
    "\n",
    "    Integrates the individual y-direction Green's components for a given eigenmode (l)\n",
    "    for a box with y-dimension delta_y centered at y at time t given an initial impulse\n",
    "    at y_o at t = t_o\n",
    "    \n",
    "    Args:\n",
    "      y_o: \n",
    "        location of calcium impulse input, y-direction\n",
    "      t_o:\n",
    "        time of calcium impulse input\n",
    "      y:\n",
    "        location of interest point, y-direction\n",
    "      t:\n",
    "        time of interest point\n",
    "      l:\n",
    "        z-direction eigenmode\n",
    "\n",
    "    Returns:\n",
    "      A singular value giving the value of the integrated individual y-direction Green's components\n",
    "    \"\"\"\n",
    "\n",
    "    if l == 0:\n",
    "        int_g_yl = 2 * delta_y / L_y\n",
    "\n",
    "    else: \n",
    "        int_g_yl = (4 / (l * math.pi)) * math.cos((l * math.pi * y_o) / L_y) \\\n",
    "            * math.cos((l * math.pi * y) / L_y) \\\n",
    "            * math.sin((l * math.pi * delta_y) / (L_y * 2))\\\n",
    "            * math.exp(-D * ((l * math.pi) / L_y)**2 * (t - t_o))\n",
    "        \n",
    "    return int_g_yl"
   ]
  },
  {
   "cell_type": "code",
   "execution_count": 14,
   "metadata": {
    "ExecuteTime": {
     "end_time": "2021-08-18T23:28:02.924572Z",
     "start_time": "2021-08-18T23:28:02.919379Z"
    }
   },
   "outputs": [],
   "source": [
    "def int_g_zm(z_o, t_o, z, t, delta_z, m):\n",
    "    \"\"\"Integrates z-direction Green's component\n",
    "\n",
    "    Integrates the individual z-direction Green's components for a given eigenmode (m)\n",
    "    for a box with z-dimension delta_z centered at z at time t given an initial impulse\n",
    "    at z_o at t = t_o\n",
    "    \n",
    "    Args:\n",
    "      z_o: \n",
    "        location of calcium impulse input, z-direction\n",
    "      t_o:\n",
    "        time of calcium impulse input\n",
    "      z:\n",
    "        location of interest point, z-direction\n",
    "      t:\n",
    "        time of interest point\n",
    "      m:\n",
    "        z-direction eigenmode\n",
    "\n",
    "    Returns:\n",
    "      A singular value giving the value of the integrated individual z-direction Green's components\n",
    "    \"\"\"\n",
    "    \n",
    "    if m == 0:\n",
    "        int_g_zm = delta_z / L_z\n",
    "    \n",
    "    else:\n",
    "        int_g_yl = (2 / (m * math.pi)) * math.cos((m * math.pi * z_o) / L_z) \\\n",
    "            * math.cos((m * math.pi * z) / L_z) \\\n",
    "            * math.sin((m * math.pi * delta_z) / (L_z * 2))\\\n",
    "            * math.exp(-D * (m * math.pi / L_z)**2 * (t - t_o))\n",
    "        \n",
    "    return int_g_zm"
   ]
  },
  {
   "cell_type": "code",
   "execution_count": 7,
   "metadata": {
    "ExecuteTime": {
     "end_time": "2021-08-18T23:28:03.779551Z",
     "start_time": "2021-08-18T23:28:03.774118Z"
    }
   },
   "outputs": [],
   "source": [
    "def int_G(impulse_xyzt, interest_xyzt, box_dim_xyz, eigenmodes_klm):\n",
    "    \"\"\"Sums Green's components for all directions and eigenmodes\n",
    "    \n",
    "    Sums the individual x-, y-, and z-direction Green's components across the desired number of\n",
    "    eigenmodes to give the normalized number of calcium molecules in a box with dimensions \n",
    "    (delta_x, delta_y, delta_z) centered at point (x, y, z) at time t given an initial impulse\n",
    "    of N_ca at (x_o, y_o, z_o) at t = t_o\n",
    "    \n",
    "    Args:\n",
    "      impulse_xyzt: \n",
    "        location and time of calcium impulse input; (x_o, y_o, z_o, t_o)\n",
    "      interest_xyzt: \n",
    "        location and time of interest point; (x, y, z, t)\n",
    "      box_dim_xyz: \n",
    "        dimensions of box of interest centered at interest_xyzt; (delta_x, delta_y, delta_z) \n",
    "      eigenmodes_klm: \n",
    "        total number of eigenmodes in x, y, and z directions accordingly; (K, L, M)\n",
    "\n",
    "    Returns:\n",
    "      A singular value giving the normalized number calcium molecules in a box with dimensions\n",
    "      given by box_dim_xyz centered at/at time given by interest_xyzt\n",
    "    \"\"\"\n",
    "    # unpack args\n",
    "    (x_o, y_o, z_o, t_o) = impulse_xyzt\n",
    "    (x, y, z, t) = interest_xyzt\n",
    "    (delta_x, delta_y, delta_z)  = box_dim_xyz\n",
    "    (K, L, M) = eigenmodes_klm\n",
    "\n",
    "    int_G = 0 # initialize\n",
    "\n",
    "    # sum across all eigenmodes of interest\n",
    "    for k in range(0, K):\n",
    "        for l in range(0, L):\n",
    "            for m in range(0, M):\n",
    "                int_G += int_g_xk(x_o, t_o, x, t, delta_x, k) * int_g_yl(y_o, t_o, y, t, delta_y, l) * int_g_zm(z_o, t_o, z, t, delta_z, m)\n",
    "\n",
    "    return int_G"
   ]
  },
  {
   "cell_type": "code",
   "execution_count": 8,
   "metadata": {
    "ExecuteTime": {
     "end_time": "2021-08-18T23:28:04.565946Z",
     "start_time": "2021-08-18T23:28:04.561291Z"
    }
   },
   "outputs": [],
   "source": [
    "def u(N_ca, impulse_xyzt, interest_xyzt, box_dim_xyz, eigenmodes_klm):\n",
    "    \"\"\"Returns number of calcium \n",
    "    \n",
    "    Scales the normalized number of calcium molecules in a box with dimensions (delta_x, delta_y, delta_z) centered at\n",
    "    point (x, y, z) at time t by the initial impulse of N_ca at (x_o, y_o, z_o) at t = t_o\n",
    "    \n",
    "    Args:\n",
    "      N_ca:\n",
    "        the number of initial calcium molecules in the impulse injection\n",
    "      impulse_xyzt: \n",
    "        location and time of calcium impulse input; (x_o, y_o, z_o, t_o)\n",
    "      interest_xyzt: \n",
    "        location and time of interest point; (x, y, z, t)\n",
    "      box_dim_xyz: \n",
    "        dimensions of box of interest centered at interest_xyzt; (delta_x, delta_y, delta_z) \n",
    "      eigenmodes_klm: \n",
    "        total number of eigenmodes in x, y, and z directions accordingly; (K, L, M)\n",
    "\n",
    "    Returns:\n",
    "      A singular value giving the number of calcium molecules in a box with dimensions\n",
    "      given by box_dim_xyz centered at/at time given by interest_xyzt\n",
    "    \"\"\"\n",
    "     \n",
    "    u = N_ca * int_G(impulse_xyzt, interest_xyzt, box_dim_xyz, eigenmodes_klm) \n",
    "    \n",
    "    return u"
   ]
  },
  {
   "cell_type": "code",
   "execution_count": 9,
   "metadata": {
    "ExecuteTime": {
     "end_time": "2021-08-18T23:28:04.974365Z",
     "start_time": "2021-08-18T23:28:04.967707Z"
    }
   },
   "outputs": [
    {
     "data": {
      "text/plain": [
       "-64.51555208317394"
      ]
     },
     "execution_count": 9,
     "metadata": {},
     "output_type": "execute_result"
    }
   ],
   "source": [
    "u(N_ca, (x_o, y_o, z_o, t_o), (x_s, y_s, z_s, t), (delta_x, delta_y, delta_z), (K, L, M))\n",
    "#def int_G(x_s, y_s, z_s, t, x_o, y_o, z_o, t_o, delta_x, delta_y, delta_z, K, L, M):"
   ]
  },
  {
   "cell_type": "code",
   "execution_count": 10,
   "metadata": {},
   "outputs": [
    {
     "data": {
      "image/png": "[encoded data removed]",
      "text/plain": [
       "<Figure size 432x288 with 1 Axes>"
      ]
     },
     "metadata": {
      "needs_background": "light"
     },
     "output_type": "display_data"
    }
   ],
   "source": [
    "timepoints = np.linspace(1, 1000, 200)\n",
    "ca_s = []\n",
    "\n",
    "for t in timepoints:\n",
    "    ca_s.append(u(N_ca, (x_o, y_o, z_o, t_o), (x_s, y_s, z_s, t), (delta_x, delta_y, delta_z), (K, L, M)))\n",
    "\n",
    "\n",
    "plt.plot(timepoints, ca_s)\n",
    "#plt.yscale('log')\n",
    "plt.ylim([0,5])\n",
    "plt.xlabel(\"Timepoint (microsecond)\")\n",
    "plt.ylabel(\"Number of Ca in SNARE box\")\n",
    "plt.show()\n",
    "    "
   ]
  },
  {
   "cell_type": "code",
   "execution_count": 13,
   "metadata": {},
   "outputs": [
    {
     "data": {
      "image/png": "[encoded data removed]",
      "text/plain": [
       "<Figure size 432x288 with 1 Axes>"
      ]
     },
     "metadata": {
      "needs_background": "light"
     },
     "output_type": "display_data"
    }
   ],
   "source": [
    "plt.plot(timepoints, ca_s)\n",
    "#plt.yscale('log')\n",
    "plt.ylim([0,10])\n",
    "plt.xlabel(\"Timepoint (microsecond)\")\n",
    "plt.ylabel(\"Number of Ca in SNARE box\")\n",
    "plt.show()"
   ]
  },
  {
   "cell_type": "code",
   "execution_count": null,
   "metadata": {},
   "outputs": [],
   "source": [
    "def eigenmode_checker(x_s, y_s, z_s, t, x_o, y_o, z_o, t_o, delta_x, delta_y, delta_z, K, L, M):\n",
    "    '''\n",
    "    Determine how many eigenmodes are necessary.\n",
    "\n",
    "    :param (x_s, y_s, z_s)\n",
    "    '''\n",
    "\n",
    "    # \n",
    "    int_G = int_g_xk(x_s, t, x_o, t_o, delta_x, k) * int_g_yl(y_s, t, y_o, t_o, delta_y, l) * int_g_zm(z_s, t, z_o, t_o, delta_z, m)\n",
    "\n",
    "    # input the largest eigenmode and check what t value is needed to decay it\n",
    "    # 10 * 1/largest eigenvalue to get a ballpark\n",
    "    for k in range(0, K):\n",
    "        for l in range(0, L):\n",
    "            for m in range(0, M):\n",
    "                int_G += int_g_xk(x_s, t, x_o, t_o, delta_x, k) * int_g_yl(y_s, t, y_o, t_o, delta_y, l) * int_g_zm(z_s, t, z_o, t_o, delta_z, m)\n",
    "\n",
    "    return int_G"
   ]
  }
 ],
 "metadata": {
  "interpreter": {
   "hash": "57d1dc6e5bbfbf1112d5e37952581db9c44bf06d525ba77b7a2773946a21e29c"
  },
  "kernelspec": {
   "display_name": "Python 3.8.5 64-bit ('base': conda)",
   "name": "python3"
  },
  "language_info": {
   "codemirror_mode": {
    "name": "ipython",
    "version": 3
   },
   "file_extension": ".py",
   "mimetype": "text/x-python",
   "name": "python",
   "nbconvert_exporter": "python",
   "pygments_lexer": "ipython3",
   "version": "3.8.5"
  },
  "varInspector": {
   "cols": {
    "lenName": 16,
    "lenType": 16,
    "lenVar": 40
   },
   "kernels_config": {
    "python": {
     "delete_cmd_postfix": "",
     "delete_cmd_prefix": "del ",
     "library": "var_list.py",
     "varRefreshCmd": "print(var_dic_list())"
    },
    "r": {
     "delete_cmd_postfix": ") ",
     "delete_cmd_prefix": "rm(",
     "library": "var_list.r",
     "varRefreshCmd": "cat(var_dic_list()) "
    }
   },
   "types_to_exclude": [
    "module",
    "function",
    "builtin_function_or_method",
    "instance",
    "_Feature"
   ],
   "window_display": false
  }
 },
 "nbformat": 4,
 "nbformat_minor": 4
}
