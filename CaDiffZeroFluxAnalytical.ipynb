{
 "cells": [
  {
   "cell_type": "markdown",
   "metadata": {
    "ExecuteTime": {
     "end_time": "2021-08-18T16:57:16.013225Z",
     "start_time": "2021-08-18T16:57:16.004393Z"
    }
   },
   "source": [
    "Script for modeling calcium diffusion in a rectangular tube with zero flux in the x-, y-, and z-directions.\n",
    "\n",
    "Last updated: 10/21/21 4:30PM"
   ]
  },
  {
   "cell_type": "code",
   "execution_count": 1,
   "metadata": {
    "ExecuteTime": {
     "end_time": "2021-08-18T16:57:27.589228Z",
     "start_time": "2021-08-18T16:57:27.586652Z"
    }
   },
   "outputs": [],
   "source": [
    "import math"
   ]
  },
  {
   "cell_type": "code",
   "execution_count": 20,
   "metadata": {
    "ExecuteTime": {
     "end_time": "2021-08-18T23:28:01.664014Z",
     "start_time": "2021-08-18T23:28:01.659001Z"
    }
   },
   "outputs": [],
   "source": [
    "# CONSTANTS\n",
    "L_x = 4     # X LENGTH (um)\n",
    "L_y = 0.5   # Y LENGTH (um)\n",
    "L_z = 0.5   # Z LENGTH (um)\n",
    "\n",
    "x_o = 2.35  # VDCC X LOC (um)\n",
    "y_o = 0.25  # VDCC Y LOC (um)\n",
    "z_o = 0     # VDCC Z LOC (um)\n",
    "t_o = 0     # C rel time\n",
    "\n",
    "x_s = 2       # SNARE BOX CENTER X LOC (um)\n",
    "y_s = 0.25    # SNARE BOX CENTER Y LOC (um)\n",
    "z_s = 0       # SNARE BOX CENTER Z LOC (um)\n",
    "\n",
    "deltx = 0.040   # SNARE BOX X LEN (um)\n",
    "delty = 0.035   # SNARE BOX Y LEN (um)\n",
    "deltz = 0.05    # SNARE BOX X LEN (um)\n",
    "\n",
    "N_ca = 5275 # no. of ca\n",
    "D = 220     # Diffusion coeff (um^2/sec)\n",
    "\n",
    "\n",
    "# Test\n",
    "K = 20       # X eigenmodes\n",
    "L = 20       # Y eigenmodes\n",
    "M = 20       # Z eigenmodes\n",
    "t = .001   # time of interest (sec)"
   ]
  },
  {
   "cell_type": "code",
   "execution_count": 10,
   "metadata": {
    "ExecuteTime": {
     "end_time": "2021-08-18T23:28:02.090337Z",
     "start_time": "2021-08-18T23:28:02.086325Z"
    }
   },
   "outputs": [],
   "source": [
    "def int_g_xk(x_s, t, x_o, t_o, deltx, k):\n",
    "    '''\n",
    "    Integrated Green's component for the x-direction\n",
    "    '''\n",
    "\n",
    "    int_g_xk = (4 / (k * math.pi)) * math.cos((k * math.pi * x_o) / L_x) \\\n",
    "        * math.cos((k * math.pi * x_s) / L_x) \\\n",
    "        * math.sin((k * math.pi * deltx)/(L_x * 2))\\\n",
    "        * math.exp(-D * ((k * math.pi) / L_x)**2 * (t - t_o))\n",
    "\n",
    "    return int_g_xk"
   ]
  },
  {
   "cell_type": "code",
   "execution_count": 11,
   "metadata": {
    "ExecuteTime": {
     "end_time": "2021-08-18T23:28:02.485477Z",
     "start_time": "2021-08-18T23:28:02.480652Z"
    }
   },
   "outputs": [],
   "source": [
    "def int_g_yl(y_s, t, y_o, t_o, delty, l):\n",
    "    '''\n",
    "    Integrated Green's component for the y-direction\n",
    "    '''\n",
    "\n",
    "    int_g_yl = (4 / (l * math.pi)) * math.cos((l * math.pi * y_o) / L_y) \\\n",
    "        * math.cos((l * math.pi * y_s) / L_y) \\\n",
    "        * math.sin((l * math.pi * delty) / (L_y*2))\\\n",
    "        * math.exp(-D * ((l * math.pi) / L_y)**2*(t - t_o))\n",
    "        \n",
    "    return int_g_yl"
   ]
  },
  {
   "cell_type": "code",
   "execution_count": 12,
   "metadata": {
    "ExecuteTime": {
     "end_time": "2021-08-18T23:28:02.924572Z",
     "start_time": "2021-08-18T23:28:02.919379Z"
    }
   },
   "outputs": [],
   "source": [
    "def int_g_zm(z_s, t, z_o, t_o, deltz, m):\n",
    "    '''\n",
    "    Integrated Green's component for the z-direction\n",
    "    '''\n",
    "\n",
    "    int_g_zm = (2 / (m * math.pi)) * math.cos((m * math.pi * z_o) / L_z) \\\n",
    "\n",
    "        * math.exp(-D * (m * math.pi / L_z)**2 * (t - t_o)) \\\n",
    "            \\\n",
    "            \n",
    "\n",
    "\n",
    "        \n",
    "    return int_g_zm"
   ]
  },
  {
   "cell_type": "code",
   "execution_count": 13,
   "metadata": {
    "ExecuteTime": {
     "end_time": "2021-08-18T23:28:03.779551Z",
     "start_time": "2021-08-18T23:28:03.774118Z"
    }
   },
   "outputs": [],
   "source": [
    "def int_G(x, y, z, t, x_o, y_o, z_o, t_o, K, L, M):\n",
    "    '''\n",
    "    Overall integrated Green's function for diffusion in the x-, y-, and z-directions\n",
    "    '''\n",
    "\n",
    "    int_G = 0 # initialize\n",
    "\n",
    "    # sum across all eigenmodes of interest\n",
    "    for k in range(K):\n",
    "        for l in range(L):\n",
    "            for m in range(M):\n",
    "                int_G += int_g_xk(x, t, x_o, t_o, k) * int_g_yl(y, t, y_o, t_o, l) * int_g_zm(z, t, z_o, t_o, m)\n",
    "\n",
    "    return int_G"
   ]
  },
  {
   "cell_type": "code",
   "execution_count": 14,
   "metadata": {
    "ExecuteTime": {
     "end_time": "2021-08-18T23:28:04.565946Z",
     "start_time": "2021-08-18T23:28:04.561291Z"
    }
   },
   "outputs": [],
   "source": [
    "def u(N_ca, x, y, z, t, x_o, y_o, z_o, t_o, K, L, M):\n",
    "    '''\n",
    "    Resulting concentration of calcium at point (x, y, z) at time t\n",
    "    '''\n",
    "    \n",
    "    u = N_ca * int_G(x, y, z, t, x_o, y_o, z_o, t_o, K, L, M) \n",
    "\n",
    "    print(int_G(x, y, z, t, x_o, y_o, z_o, t_o, K, L, M))\n",
    "    \n",
    "    return u"
   ]
  },
  {
   "cell_type": "code",
   "execution_count": 21,
   "metadata": {
    "ExecuteTime": {
     "end_time": "2021-08-18T23:28:04.974365Z",
     "start_time": "2021-08-18T23:28:04.967707Z"
    }
   },
   "outputs": [
    {
     "name": "stdout",
     "output_type": "stream",
     "text": [
      "4.2093031230563714e-66\n"
     ]
    },
    {
     "data": {
      "text/plain": [
       "2.220407397412236e-62"
      ]
     },
     "execution_count": 21,
     "metadata": {},
     "output_type": "execute_result"
    }
   ],
   "source": [
    "u(N_ca, x, y, z, t, x_o, y_o, z_o, t_o, K, L, M)"
   ]
  },
  {
   "cell_type": "code",
   "execution_count": null,
   "metadata": {},
   "outputs": [],
   "source": []
  }
 ],
 "metadata": {
  "interpreter": {
   "hash": "98f15700a9be0b03ececd51678b6b5704dfd78fdf827979b28e9c3a431ae808e"
  },
  "kernelspec": {
   "display_name": "Python 3.8.5 64-bit ('base': conda)",
   "name": "python3"
  },
  "language_info": {
   "codemirror_mode": {
    "name": "ipython",
    "version": 3
   },
   "file_extension": ".py",
   "mimetype": "text/x-python",
   "name": "python",
   "nbconvert_exporter": "python",
   "pygments_lexer": "ipython3",
   "version": "3.8.5"
  },
  "varInspector": {
   "cols": {
    "lenName": 16,
    "lenType": 16,
    "lenVar": 40
   },
   "kernels_config": {
    "python": {
     "delete_cmd_postfix": "",
     "delete_cmd_prefix": "del ",
     "library": "var_list.py",
     "varRefreshCmd": "print(var_dic_list())"
    },
    "r": {
     "delete_cmd_postfix": ") ",
     "delete_cmd_prefix": "rm(",
     "library": "var_list.r",
     "varRefreshCmd": "cat(var_dic_list()) "
    }
   },
   "types_to_exclude": [
    "module",
    "function",
    "builtin_function_or_method",
    "instance",
    "_Feature"
   ],
   "window_display": false
  }
 },
 "nbformat": 4,
 "nbformat_minor": 4
}
